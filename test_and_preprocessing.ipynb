{
 "cells": [
  {
   "cell_type": "markdown",
   "metadata": {},
   "source": [
    "### 轉換產品分類 Excel 成為階層式 JSON 架構"
   ]
  },
  {
   "cell_type": "code",
   "execution_count": 8,
   "metadata": {},
   "outputs": [],
   "source": [
    "import pandas as pd\n",
    "import json\n",
    "categories_df = pd.read_excel(\"sources/設研院114年產品分類.xlsx\")"
   ]
  },
  {
   "cell_type": "code",
   "execution_count": 10,
   "metadata": {},
   "outputs": [],
   "source": [
    "categories_json = {}\n",
    "\n",
    "categories_json['其他'] = {\"其他\": {\"其他\": \"其他\"}}\n",
    "for domain in categories_df['前端_domain'].unique():\n",
    "    subset_domain = categories_df[categories_df[\"前端_domain\"] == domain]\n",
    "    categories_json[domain] = {key: {} for key in subset_domain['前端_category'].unique()}\n",
    "    categories_json[domain]['其他'] = {\"其他\": \"其他\"}\n",
    "\n",
    "    for category in subset_domain['前端_category'].unique():\n",
    "        subset_category = subset_domain[subset_domain['前端_category'] == category]\n",
    "        categories_json[domain][category] = {key: {} for key in subset_category['前端_subcategory'].unique()}\n",
    "        categories_json[domain][category]['其他'] = \"其他\"\n",
    "\n",
    "        for subcategory in subset_category['前端_subcategory'].unique():\n",
    "            subset_subcategory = subset_category[subset_category['前端_subcategory'] == subcategory]\n",
    "            categories_json[domain][category][subcategory] = [key for key in  subset_subcategory['前端_further_subcategory'].unique()]\n",
    "with open(\"utils/categories.json\", \"w\") as f:\n",
    "    json.dump(categories_json, f, ensure_ascii = False, indent = 4)"
   ]
  },
  {
   "cell_type": "markdown",
   "metadata": {},
   "source": [
    "### 小範圍測試"
   ]
  },
  {
   "cell_type": "code",
   "execution_count": 1,
   "metadata": {},
   "outputs": [],
   "source": [
    "from utils.llm_manager import LlmManager\n",
    "from utils.prompt_manager import PromptManager\n",
    "import pandas as pd\n",
    "import json\n",
    "\n",
    "model = LlmManager(chart = \"products\")\n",
    "promptManager = PromptManager()\n",
    "products_df = pd.read_excel(\"sources/products_momo_0604_classified.xlsx\")"
   ]
  },
  {
   "cell_type": "code",
   "execution_count": 2,
   "metadata": {},
   "outputs": [],
   "source": [
    "verified_data = []\n",
    "\n",
    "for _, row in products_df.iloc[500:501, :].iterrows():\n",
    "\n",
    "    input = promptManager.get_user_in_message(\n",
    "        row['title'],\n",
    "        row['domain'],\n",
    "        row['category'],\n",
    "        row['subcategory'],\n",
    "        row['further_subcategory']\n",
    "    )\n",
    "    \n",
    "    \n",
    "    output_text = model.api_call(input)\n",
    "    output_json = LlmManager.find_json_object(output_text)\n",
    "\n",
    "    output_json[\"source_product_id\"] = row['source_product_id']\n",
    "\n",
    "    verified_data.append(output_json)\n",
    "\n",
    "verified_df = pd.DataFrame(verified_data)"
   ]
  },
  {
   "cell_type": "code",
   "execution_count": 3,
   "metadata": {},
   "outputs": [
    {
     "data": {
      "text/html": [
       "<div>\n",
       "<style scoped>\n",
       "    .dataframe tbody tr th:only-of-type {\n",
       "        vertical-align: middle;\n",
       "    }\n",
       "\n",
       "    .dataframe tbody tr th {\n",
       "        vertical-align: top;\n",
       "    }\n",
       "\n",
       "    .dataframe thead th {\n",
       "        text-align: right;\n",
       "    }\n",
       "</style>\n",
       "<table border=\"1\" class=\"dataframe\">\n",
       "  <thead>\n",
       "    <tr style=\"text-align: right;\">\n",
       "      <th></th>\n",
       "      <th>is_correct</th>\n",
       "      <th>suggested_domain</th>\n",
       "      <th>suggested_category</th>\n",
       "      <th>suggested_subcategory</th>\n",
       "      <th>suggested_further_subcategory</th>\n",
       "      <th>confidence</th>\n",
       "      <th>reasoning</th>\n",
       "      <th>source_product_id</th>\n",
       "    </tr>\n",
       "  </thead>\n",
       "  <tbody>\n",
       "    <tr>\n",
       "      <th>0</th>\n",
       "      <td>False</td>\n",
       "      <td>智慧移動</td>\n",
       "      <td>機車用品</td>\n",
       "      <td>機車配件</td>\n",
       "      <td>TBD</td>\n",
       "      <td>0.8</td>\n",
       "      <td>The product is an 'air intake protection net' ...</td>\n",
       "      <td>momo_12487548</td>\n",
       "    </tr>\n",
       "  </tbody>\n",
       "</table>\n",
       "</div>"
      ],
      "text/plain": [
       "   is_correct suggested_domain suggested_category suggested_subcategory  \\\n",
       "0       False             智慧移動               機車用品                  機車配件   \n",
       "\n",
       "  suggested_further_subcategory  confidence  \\\n",
       "0                           TBD         0.8   \n",
       "\n",
       "                                           reasoning source_product_id  \n",
       "0  The product is an 'air intake protection net' ...     momo_12487548  "
      ]
     },
     "execution_count": 3,
     "metadata": {},
     "output_type": "execute_result"
    }
   ],
   "source": [
    "verified_df"
   ]
  },
  {
   "cell_type": "code",
   "execution_count": 1,
   "metadata": {},
   "outputs": [],
   "source": [
    "from utils.sheet_manager import SheetManager\n",
    "\n",
    "SheetManager = SheetManager()"
   ]
  }
 ],
 "metadata": {
  "kernelspec": {
   "display_name": "base",
   "language": "python",
   "name": "python3"
  },
  "language_info": {
   "codemirror_mode": {
    "name": "ipython",
    "version": 3
   },
   "file_extension": ".py",
   "mimetype": "text/x-python",
   "name": "python",
   "nbconvert_exporter": "python",
   "pygments_lexer": "ipython3",
   "version": "3.12.2"
  }
 },
 "nbformat": 4,
 "nbformat_minor": 2
}
