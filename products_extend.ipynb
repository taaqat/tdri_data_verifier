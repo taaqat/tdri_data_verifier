{
 "cells": [
  {
   "cell_type": "markdown",
   "metadata": {},
   "source": [
    "This file aims for standarizing the tags for products extend tags."
   ]
  },
  {
   "cell_type": "code",
   "execution_count": 1,
   "metadata": {},
   "outputs": [
    {
     "name": "stdout",
     "output_type": "stream",
     "text": [
      "Requirement already satisfied: anthropic in /home/ideaslab/miniconda3/lib/python3.12/site-packages (0.57.1)\n",
      "Collecting anthropic\n",
      "  Downloading anthropic-0.58.2-py3-none-any.whl.metadata (27 kB)\n",
      "Requirement already satisfied: anyio<5,>=3.5.0 in /home/ideaslab/miniconda3/lib/python3.12/site-packages (from anthropic) (4.9.0)\n",
      "Requirement already satisfied: distro<2,>=1.7.0 in /home/ideaslab/miniconda3/lib/python3.12/site-packages (from anthropic) (1.8.0)\n",
      "Requirement already satisfied: httpx<1,>=0.25.0 in /home/ideaslab/miniconda3/lib/python3.12/site-packages (from anthropic) (0.28.1)\n",
      "Requirement already satisfied: jiter<1,>=0.4.0 in /home/ideaslab/miniconda3/lib/python3.12/site-packages (from anthropic) (0.6.1)\n",
      "Requirement already satisfied: pydantic<3,>=1.9.0 in /home/ideaslab/miniconda3/lib/python3.12/site-packages (from anthropic) (2.8.2)\n",
      "Requirement already satisfied: sniffio in /home/ideaslab/miniconda3/lib/python3.12/site-packages (from anthropic) (1.3.1)\n",
      "Requirement already satisfied: typing-extensions<5,>=4.10 in /home/ideaslab/miniconda3/lib/python3.12/site-packages (from anthropic) (4.11.0)\n",
      "Requirement already satisfied: idna>=2.8 in /home/ideaslab/miniconda3/lib/python3.12/site-packages (from anyio<5,>=3.5.0->anthropic) (3.4)\n",
      "Requirement already satisfied: certifi in /home/ideaslab/miniconda3/lib/python3.12/site-packages (from httpx<1,>=0.25.0->anthropic) (2024.12.14)\n",
      "Requirement already satisfied: httpcore==1.* in /home/ideaslab/miniconda3/lib/python3.12/site-packages (from httpx<1,>=0.25.0->anthropic) (1.0.2)\n",
      "Requirement already satisfied: h11<0.15,>=0.13 in /home/ideaslab/miniconda3/lib/python3.12/site-packages (from httpcore==1.*->httpx<1,>=0.25.0->anthropic) (0.14.0)\n",
      "Requirement already satisfied: annotated-types>=0.4.0 in /home/ideaslab/miniconda3/lib/python3.12/site-packages (from pydantic<3,>=1.9.0->anthropic) (0.6.0)\n",
      "Requirement already satisfied: pydantic-core==2.20.1 in /home/ideaslab/miniconda3/lib/python3.12/site-packages (from pydantic<3,>=1.9.0->anthropic) (2.20.1)\n",
      "Downloading anthropic-0.58.2-py3-none-any.whl (292 kB)\n",
      "Installing collected packages: anthropic\n",
      "  Attempting uninstall: anthropic\n",
      "    Found existing installation: anthropic 0.57.1\n",
      "    Uninstalling anthropic-0.57.1:\n",
      "      Successfully uninstalled anthropic-0.57.1\n",
      "\u001b[31mERROR: pip's dependency resolver does not currently take into account all the packages that are installed. This behaviour is the source of the following dependency conflicts.\n",
      "langchain-anthropic 0.2.4 requires langchain-core<0.4.0,>=0.3.15, but you have langchain-core 0.3.1 which is incompatible.\u001b[0m\u001b[31m\n",
      "\u001b[0mSuccessfully installed anthropic-0.58.2\n",
      "\n",
      "\u001b[1m[\u001b[0m\u001b[34;49mnotice\u001b[0m\u001b[1;39;49m]\u001b[0m\u001b[39;49m A new release of pip is available: \u001b[0m\u001b[31;49m24.3.1\u001b[0m\u001b[39;49m -> \u001b[0m\u001b[32;49m25.1.1\u001b[0m\n",
      "\u001b[1m[\u001b[0m\u001b[34;49mnotice\u001b[0m\u001b[1;39;49m]\u001b[0m\u001b[39;49m To update, run: \u001b[0m\u001b[32;49mpip install --upgrade pip\u001b[0m\n"
     ]
    }
   ],
   "source": [
    "!pip install anthropic --upgrade\n",
    "import pandas as pd\n",
    "from tqdm import tqdm\n",
    "import json\n",
    "from google import genai\n",
    "from google.genai import types\n",
    "from dotenv import dotenv_values\n",
    "from utils.llm_manager import LlmManager\n",
    "import time \n",
    "import anthropic\n",
    "from anthropic.types.message_create_params import MessageCreateParamsNonStreaming\n",
    "from anthropic.types.messages.batch_create_params import Request"
   ]
  },
  {
   "cell_type": "code",
   "execution_count": 2,
   "metadata": {},
   "outputs": [],
   "source": [
    "classes = [\n",
    "    \"功能\",\n",
    "    \"材質\",\n",
    "    \"訴求\",\n",
    "    \"使用情境\",\n",
    "    \"風格\",\n",
    "    \"族群\"\n",
    "]"
   ]
  },
  {
   "cell_type": "markdown",
   "metadata": {},
   "source": [
    "## Momo"
   ]
  },
  {
   "cell_type": "code",
   "execution_count": 3,
   "metadata": {},
   "outputs": [],
   "source": [
    "#\n",
    "# * load in raw data\n",
    "momo_products_extend = pd.read_excel(\"sources/文字型數據_momo.xlsx\")"
   ]
  },
  {
   "cell_type": "code",
   "execution_count": 4,
   "metadata": {},
   "outputs": [
    {
     "data": {
      "text/html": [
       "<div>\n",
       "<style scoped>\n",
       "    .dataframe tbody tr th:only-of-type {\n",
       "        vertical-align: middle;\n",
       "    }\n",
       "\n",
       "    .dataframe tbody tr th {\n",
       "        vertical-align: top;\n",
       "    }\n",
       "\n",
       "    .dataframe thead th {\n",
       "        text-align: right;\n",
       "    }\n",
       "</style>\n",
       "<table border=\"1\" class=\"dataframe\">\n",
       "  <thead>\n",
       "    <tr style=\"text-align: right;\">\n",
       "      <th></th>\n",
       "      <th>id</th>\n",
       "      <th>source_product_id</th>\n",
       "      <th>domain</th>\n",
       "      <th>category</th>\n",
       "      <th>subcategory</th>\n",
       "      <th>further_subcategory</th>\n",
       "      <th>extend_class</th>\n",
       "      <th>extend_subclass</th>\n",
       "      <th>extend_detail</th>\n",
       "      <th>extend_detail_raw</th>\n",
       "      <th>extend_unit</th>\n",
       "      <th>source</th>\n",
       "      <th>domain_from_classification</th>\n",
       "      <th>category_from_classification</th>\n",
       "      <th>subcategory_from_classification</th>\n",
       "      <th>further_subcategory_from_classification</th>\n",
       "      <th>match_key</th>\n",
       "    </tr>\n",
       "  </thead>\n",
       "  <tbody>\n",
       "    <tr>\n",
       "      <th>0</th>\n",
       "      <td>33c78847-7bd5-4a78-8139-9b9f461b4fb3</td>\n",
       "      <td>momo_10029797</td>\n",
       "      <td>NaN</td>\n",
       "      <td>NaN</td>\n",
       "      <td>NaN</td>\n",
       "      <td>NaN</td>\n",
       "      <td>使用情境</td>\n",
       "      <td>NaN</td>\n",
       "      <td>家庭</td>\n",
       "      <td>家庭</td>\n",
       "      <td>NaN</td>\n",
       "      <td>momo</td>\n",
       "      <td>智慧家電</td>\n",
       "      <td>通訊</td>\n",
       "      <td>行動通訊設備</td>\n",
       "      <td>無線電話</td>\n",
       "      <td>momo_10029797_使用情境_None_家庭_None</td>\n",
       "    </tr>\n",
       "    <tr>\n",
       "      <th>1</th>\n",
       "      <td>e9fbc893-9549-4d3e-a038-db38f5b0f283</td>\n",
       "      <td>momo_10029797</td>\n",
       "      <td>NaN</td>\n",
       "      <td>NaN</td>\n",
       "      <td>NaN</td>\n",
       "      <td>NaN</td>\n",
       "      <td>使用情境</td>\n",
       "      <td>NaN</td>\n",
       "      <td>辦公室</td>\n",
       "      <td>辦公室</td>\n",
       "      <td>NaN</td>\n",
       "      <td>momo</td>\n",
       "      <td>智慧家電</td>\n",
       "      <td>通訊</td>\n",
       "      <td>行動通訊設備</td>\n",
       "      <td>無線電話</td>\n",
       "      <td>momo_10029797_使用情境_None_辦公室_None</td>\n",
       "    </tr>\n",
       "    <tr>\n",
       "      <th>2</th>\n",
       "      <td>04973514-0a3c-4a96-8685-6c24983a9f65</td>\n",
       "      <td>momo_10278628</td>\n",
       "      <td>NaN</td>\n",
       "      <td>NaN</td>\n",
       "      <td>NaN</td>\n",
       "      <td>NaN</td>\n",
       "      <td>使用情境</td>\n",
       "      <td>NaN</td>\n",
       "      <td>辦公室</td>\n",
       "      <td>辦公室</td>\n",
       "      <td>NaN</td>\n",
       "      <td>momo</td>\n",
       "      <td>智慧家電</td>\n",
       "      <td>通訊</td>\n",
       "      <td>行動通訊設備</td>\n",
       "      <td>無線電話</td>\n",
       "      <td>momo_10278628_使用情境_None_辦公室_None</td>\n",
       "    </tr>\n",
       "    <tr>\n",
       "      <th>3</th>\n",
       "      <td>8e808bee-715d-48b1-9233-630d4c871d55</td>\n",
       "      <td>momo_10278628</td>\n",
       "      <td>NaN</td>\n",
       "      <td>NaN</td>\n",
       "      <td>NaN</td>\n",
       "      <td>NaN</td>\n",
       "      <td>使用情境</td>\n",
       "      <td>NaN</td>\n",
       "      <td>家庭</td>\n",
       "      <td>家庭</td>\n",
       "      <td>NaN</td>\n",
       "      <td>momo</td>\n",
       "      <td>智慧家電</td>\n",
       "      <td>通訊</td>\n",
       "      <td>行動通訊設備</td>\n",
       "      <td>無線電話</td>\n",
       "      <td>momo_10278628_使用情境_None_家庭_None</td>\n",
       "    </tr>\n",
       "    <tr>\n",
       "      <th>4</th>\n",
       "      <td>31142e90-fc70-45cb-886c-0019ae638a91</td>\n",
       "      <td>momo_10278629</td>\n",
       "      <td>NaN</td>\n",
       "      <td>NaN</td>\n",
       "      <td>NaN</td>\n",
       "      <td>NaN</td>\n",
       "      <td>使用情境</td>\n",
       "      <td>NaN</td>\n",
       "      <td>高品質通話 收音清晰</td>\n",
       "      <td>高品質通話 收音清晰</td>\n",
       "      <td>NaN</td>\n",
       "      <td>momo</td>\n",
       "      <td>智慧家電</td>\n",
       "      <td>通訊</td>\n",
       "      <td>行動通訊設備</td>\n",
       "      <td>無線電話</td>\n",
       "      <td>momo_10278629_使用情境_None_高品質通話 收音清晰_None</td>\n",
       "    </tr>\n",
       "  </tbody>\n",
       "</table>\n",
       "</div>"
      ],
      "text/plain": [
       "                                     id source_product_id  domain  category  \\\n",
       "0  33c78847-7bd5-4a78-8139-9b9f461b4fb3     momo_10029797     NaN       NaN   \n",
       "1  e9fbc893-9549-4d3e-a038-db38f5b0f283     momo_10029797     NaN       NaN   \n",
       "2  04973514-0a3c-4a96-8685-6c24983a9f65     momo_10278628     NaN       NaN   \n",
       "3  8e808bee-715d-48b1-9233-630d4c871d55     momo_10278628     NaN       NaN   \n",
       "4  31142e90-fc70-45cb-886c-0019ae638a91     momo_10278629     NaN       NaN   \n",
       "\n",
       "   subcategory  further_subcategory extend_class extend_subclass  \\\n",
       "0          NaN                  NaN         使用情境             NaN   \n",
       "1          NaN                  NaN         使用情境             NaN   \n",
       "2          NaN                  NaN         使用情境             NaN   \n",
       "3          NaN                  NaN         使用情境             NaN   \n",
       "4          NaN                  NaN         使用情境             NaN   \n",
       "\n",
       "  extend_detail extend_detail_raw  extend_unit source  \\\n",
       "0            家庭                家庭          NaN   momo   \n",
       "1           辦公室               辦公室          NaN   momo   \n",
       "2           辦公室               辦公室          NaN   momo   \n",
       "3            家庭                家庭          NaN   momo   \n",
       "4    高品質通話 收音清晰        高品質通話 收音清晰          NaN   momo   \n",
       "\n",
       "  domain_from_classification category_from_classification  \\\n",
       "0                       智慧家電                           通訊   \n",
       "1                       智慧家電                           通訊   \n",
       "2                       智慧家電                           通訊   \n",
       "3                       智慧家電                           通訊   \n",
       "4                       智慧家電                           通訊   \n",
       "\n",
       "  subcategory_from_classification further_subcategory_from_classification  \\\n",
       "0                          行動通訊設備                                    無線電話   \n",
       "1                          行動通訊設備                                    無線電話   \n",
       "2                          行動通訊設備                                    無線電話   \n",
       "3                          行動通訊設備                                    無線電話   \n",
       "4                          行動通訊設備                                    無線電話   \n",
       "\n",
       "                                 match_key  \n",
       "0          momo_10029797_使用情境_None_家庭_None  \n",
       "1         momo_10029797_使用情境_None_辦公室_None  \n",
       "2         momo_10278628_使用情境_None_辦公室_None  \n",
       "3          momo_10278628_使用情境_None_家庭_None  \n",
       "4  momo_10278629_使用情境_None_高品質通話 收音清晰_None  "
      ]
     },
     "execution_count": 4,
     "metadata": {},
     "output_type": "execute_result"
    }
   ],
   "source": [
    "momo_products_extend.head()"
   ]
  },
  {
   "cell_type": "code",
   "execution_count": 5,
   "metadata": {},
   "outputs": [
    {
     "data": {
      "text/plain": [
       "array(['使用情境', '材質', '風格', '訴求', '功能', '材質_部件材質', '色彩', '族群'],\n",
       "      dtype=object)"
      ]
     },
     "execution_count": 5,
     "metadata": {},
     "output_type": "execute_result"
    }
   ],
   "source": [
    "momo_products_extend['extend_class'].unique()"
   ]
  },
  {
   "cell_type": "code",
   "execution_count": 6,
   "metadata": {},
   "outputs": [],
   "source": [
    "# 標準化類似的 extend class（材質_部件材質 -> 材質）\n",
    "momo_products_extend['extend_class'] = (momo_products_extend['extend_class']\n",
    "                                        .apply(\n",
    "                                            lambda ext_class: \"材質\" if ext_class == \"材質_部件材質\" else ext_class\n",
    "                                            )\n",
    "                                        )"
   ]
  },
  {
   "cell_type": "code",
   "execution_count": 7,
   "metadata": {},
   "outputs": [
    {
     "data": {
      "text/plain": [
       "array(['使用情境', '材質', '風格', '訴求', '功能', '色彩', '族群'], dtype=object)"
      ]
     },
     "execution_count": 7,
     "metadata": {},
     "output_type": "execute_result"
    }
   ],
   "source": [
    "momo_products_extend['extend_class'].unique()"
   ]
  },
  {
   "cell_type": "markdown",
   "metadata": {},
   "source": [
    "extend_detail 標準化：\n",
    "1. 讀取對應的 extend class JSON 檔案\n",
    "2. 針對每列 raw data，如果 extend detail 出現在任何一個 value 的 list 裡面，標準化的 detail 設定為 key\n",
    "3. 若出現在 low quality tags 或是 remove tags 裡面，額外標註「low quality」\n",
    "\n",
    "momo_tags = {\n",
    "    \"class\": {\n",
    "        \"tags\": ,\n",
    "        \"low_quality\": \n",
    "    }   \n",
    "}"
   ]
  },
  {
   "cell_type": "code",
   "execution_count": 31,
   "metadata": {},
   "outputs": [],
   "source": [
    "momo_tags = {subclass: {\"tags\": {}, \"low_quality\": []} for subclass in classes}\n",
    "\n",
    "for subclass in classes:\n",
    "    with open(f\"./sources/momo/final_{subclass}.json\", \"rb\") as f:\n",
    "        tags_json = json.load(f)\n",
    "        for detail in tags_json:\n",
    "            for tag in detail[\"aliases\"]:      # * 翻轉 tag pair, 轉換成 aliases: standard_tag 的格式\n",
    "                momo_tags[subclass][\"tags\"][tag] = detail[\"standard_tag\"]\n",
    "    with open(f\"./sources/momo/low_quality_{subclass}.json\", \"rb\") as f:\n",
    "        momo_tags[subclass][\"low_quality\"] += json.load(f)\n",
    "    with open(f\"./sources/momo/removed_{subclass}.json\", \"rb\") as f:\n",
    "        for detail in json.load(f):\n",
    "            momo_tags[subclass][\"low_quality\"] += detail[\"original_aliases\"]\n",
    "\n",
    "\n",
    "    # ***** 第二輪跑完的也放入\n",
    "    if subclass != \"材質\":\n",
    "        with open(f\"./sources/momo/round_2/final_{subclass}.json\", \"rb\") as f:          \n",
    "            tags_json = json.load(f)\n",
    "            for detail in tags_json:\n",
    "                for tag in detail[\"aliases\"]:      # * 翻轉 tag pair, 轉換成 aliases: standard_tag 的格式\n",
    "                    momo_tags[subclass][\"tags\"][tag] = detail[\"standard_tag\"]\n",
    "        with open(f\"./sources/momo/round_2/low_quality_{subclass}.json\", \"rb\") as f:\n",
    "            momo_tags[subclass][\"low_quality\"] += json.load(f)\n",
    "        with open(f\"./sources/momo/round_2/removed_{subclass}.json\", \"rb\") as f:\n",
    "            for detail in json.load(f):\n",
    "                momo_tags[subclass][\"low_quality\"] += detail[\"original_aliases\"]\n",
    "\n",
    "    momo_tags[subclass][\"low_quality\"] = set(momo_tags[subclass][\"low_quality\"])\n",
    "    \n",
    "    "
   ]
  },
  {
   "cell_type": "code",
   "execution_count": 32,
   "metadata": {},
   "outputs": [],
   "source": [
    "def standarizing_momo(row):\n",
    "    # * 跳過 class == 色彩 先不處理\n",
    "    if row[\"extend_class\"] == \"色彩\":\n",
    "        row[\"standarized_tag\"] = row[\"extend_detail\"]\n",
    "        return row\n",
    "\n",
    "    else:\n",
    "        # * 嘗試取得標準化標籤\n",
    "        standarized_tag = momo_tags[row['extend_class']]['tags'].get(row['extend_detail'], \"N/A\")\n",
    "\n",
    "        # * 若取得失敗，從 low_quality 標籤中找\n",
    "        if standarized_tag == \"N/A\":\n",
    "            if row[\"extend_detail\"] in momo_tags[row['extend_class']]['low_quality']:\n",
    "                standarized_tag = \"low_quality\"\n",
    "            # * 若 low_quality 裡面也沒有，則維持 N/A\n",
    "\n",
    "        row[\"standarized_tag\"] = standarized_tag\n",
    "        return row\n",
    "    "
   ]
  },
  {
   "cell_type": "code",
   "execution_count": 33,
   "metadata": {},
   "outputs": [
    {
     "name": "stderr",
     "output_type": "stream",
     "text": [
      "standarizing momo products extend...: 100%|██████████| 696508/696508 [01:56<00:00, 5987.95it/s]\n"
     ]
    }
   ],
   "source": [
    "tqdm.pandas(desc = \"standarizing momo products extend...\")\n",
    "momo_standarized = momo_products_extend.progress_apply(standarizing_momo, axis = 1)"
   ]
  },
  {
   "cell_type": "code",
   "execution_count": 34,
   "metadata": {},
   "outputs": [
    {
     "name": "stdout",
     "output_type": "stream",
     "text": [
      "標籤種類覆蓋率: 93.54%\n"
     ]
    },
    {
     "data": {
      "text/plain": [
       "extend_class\n",
       "色彩      1.000000\n",
       "功能      0.999763\n",
       "族群      0.998682\n",
       "風格      0.998558\n",
       "訴求      0.996349\n",
       "使用情境    0.982417\n",
       "材質      0.380453\n",
       "dtype: float64"
      ]
     },
     "execution_count": 34,
     "metadata": {},
     "output_type": "execute_result"
    }
   ],
   "source": [
    "na_unique = len(momo_standarized[momo_standarized['standarized_tag'] == \"N/A\"][\"extend_detail\"].unique())\n",
    "total_unique = len(momo_standarized['extend_detail'].unique())\n",
    "coverage_rate = (total_unique - na_unique) / total_unique\n",
    "print(f\"標籤種類覆蓋率: {coverage_rate:.2%}\")\n",
    "\n",
    "# 計算每個類別中，unique 標籤的覆蓋率\n",
    "coverage_by_class_unique = momo_standarized.groupby('extend_class').apply(\n",
    "    lambda group: (group[group['standarized_tag'] != \"N/A\"]['extend_detail'].nunique()) / \n",
    "                  (group['extend_detail'].nunique()), include_groups = False\n",
    ").sort_values(ascending=False)\n",
    "coverage_by_class_unique"
   ]
  },
  {
   "cell_type": "markdown",
   "metadata": {},
   "source": [
    "## Amazon"
   ]
  },
  {
   "cell_type": "code",
   "execution_count": 21,
   "metadata": {},
   "outputs": [],
   "source": [
    "#\n",
    "# * load in raw data\n",
    "amazon_products_extend = pd.read_excel(\"sources/文字型數據_amazon.xlsx\")"
   ]
  },
  {
   "cell_type": "code",
   "execution_count": 35,
   "metadata": {},
   "outputs": [
    {
     "data": {
      "text/html": [
       "<div>\n",
       "<style scoped>\n",
       "    .dataframe tbody tr th:only-of-type {\n",
       "        vertical-align: middle;\n",
       "    }\n",
       "\n",
       "    .dataframe tbody tr th {\n",
       "        vertical-align: top;\n",
       "    }\n",
       "\n",
       "    .dataframe thead th {\n",
       "        text-align: right;\n",
       "    }\n",
       "</style>\n",
       "<table border=\"1\" class=\"dataframe\">\n",
       "  <thead>\n",
       "    <tr style=\"text-align: right;\">\n",
       "      <th></th>\n",
       "      <th>id</th>\n",
       "      <th>source_product_id</th>\n",
       "      <th>domain</th>\n",
       "      <th>category</th>\n",
       "      <th>subcategory</th>\n",
       "      <th>further_subcategory</th>\n",
       "      <th>extend_class</th>\n",
       "      <th>extend_subclass</th>\n",
       "      <th>extend_detail</th>\n",
       "      <th>extend_detail_raw</th>\n",
       "      <th>extend_unit</th>\n",
       "      <th>source</th>\n",
       "      <th>domain_from_classification</th>\n",
       "      <th>category_from_classification</th>\n",
       "      <th>subcategory_from_classification</th>\n",
       "      <th>further_subcategory_from_classification</th>\n",
       "      <th>project_year</th>\n",
       "      <th>match_key</th>\n",
       "    </tr>\n",
       "  </thead>\n",
       "  <tbody>\n",
       "    <tr>\n",
       "      <th>0</th>\n",
       "      <td>262eee05-b0af-4ec2-a711-d2cce5727c18</td>\n",
       "      <td>amazon_0545498562</td>\n",
       "      <td>NaN</td>\n",
       "      <td>NaN</td>\n",
       "      <td>NaN</td>\n",
       "      <td>NaN</td>\n",
       "      <td>訴求</td>\n",
       "      <td>NaN</td>\n",
       "      <td>award-winning craft kit for kids</td>\n",
       "      <td>award-winning craft kit for kids</td>\n",
       "      <td>NaN</td>\n",
       "      <td>amazon</td>\n",
       "      <td>母嬰兒童</td>\n",
       "      <td>兒童玩具</td>\n",
       "      <td>益智玩具</td>\n",
       "      <td>串珠/拼豆</td>\n",
       "      <td>113</td>\n",
       "      <td>amazon_0545498562_訴求_None_award-winning craft ...</td>\n",
       "    </tr>\n",
       "    <tr>\n",
       "      <th>1</th>\n",
       "      <td>a2f645d4-4340-46b4-9e69-58710e15ffec</td>\n",
       "      <td>amazon_0545498562</td>\n",
       "      <td>NaN</td>\n",
       "      <td>NaN</td>\n",
       "      <td>NaN</td>\n",
       "      <td>NaN</td>\n",
       "      <td>訴求</td>\n",
       "      <td>NaN</td>\n",
       "      <td>includes 9 vibrant clay colors</td>\n",
       "      <td>includes 9 vibrant clay colors</td>\n",
       "      <td>NaN</td>\n",
       "      <td>amazon</td>\n",
       "      <td>母嬰兒童</td>\n",
       "      <td>兒童玩具</td>\n",
       "      <td>益智玩具</td>\n",
       "      <td>串珠/拼豆</td>\n",
       "      <td>113</td>\n",
       "      <td>amazon_0545498562_訴求_None_includes 9 vibrant c...</td>\n",
       "    </tr>\n",
       "    <tr>\n",
       "      <th>2</th>\n",
       "      <td>090cccc4-8132-438c-865c-8a16b44678ce</td>\n",
       "      <td>amazon_0545498562</td>\n",
       "      <td>NaN</td>\n",
       "      <td>NaN</td>\n",
       "      <td>NaN</td>\n",
       "      <td>NaN</td>\n",
       "      <td>訴求</td>\n",
       "      <td>NaN</td>\n",
       "      <td>simple step-by-step instructions included</td>\n",
       "      <td>simple step-by-step instructions included</td>\n",
       "      <td>NaN</td>\n",
       "      <td>amazon</td>\n",
       "      <td>母嬰兒童</td>\n",
       "      <td>兒童玩具</td>\n",
       "      <td>益智玩具</td>\n",
       "      <td>串珠/拼豆</td>\n",
       "      <td>113</td>\n",
       "      <td>amazon_0545498562_訴求_None_simple step-by-step ...</td>\n",
       "    </tr>\n",
       "    <tr>\n",
       "      <th>3</th>\n",
       "      <td>4f44df21-411d-4a76-a615-266cd72e28d9</td>\n",
       "      <td>amazon_0545498562</td>\n",
       "      <td>NaN</td>\n",
       "      <td>NaN</td>\n",
       "      <td>NaN</td>\n",
       "      <td>NaN</td>\n",
       "      <td>訴求</td>\n",
       "      <td>NaN</td>\n",
       "      <td>create over 35 unique charms</td>\n",
       "      <td>create over 35 unique charms</td>\n",
       "      <td>NaN</td>\n",
       "      <td>amazon</td>\n",
       "      <td>母嬰兒童</td>\n",
       "      <td>兒童玩具</td>\n",
       "      <td>益智玩具</td>\n",
       "      <td>串珠/拼豆</td>\n",
       "      <td>113</td>\n",
       "      <td>amazon_0545498562_訴求_None_create over 35 uniqu...</td>\n",
       "    </tr>\n",
       "    <tr>\n",
       "      <th>4</th>\n",
       "      <td>73825118-2874-45f3-a099-3e92921bbd5d</td>\n",
       "      <td>amazon_0545498562</td>\n",
       "      <td>NaN</td>\n",
       "      <td>NaN</td>\n",
       "      <td>NaN</td>\n",
       "      <td>NaN</td>\n",
       "      <td>訴求</td>\n",
       "      <td>NaN</td>\n",
       "      <td>suitable for ages 8 and up</td>\n",
       "      <td>suitable for ages 8 and up</td>\n",
       "      <td>NaN</td>\n",
       "      <td>amazon</td>\n",
       "      <td>母嬰兒童</td>\n",
       "      <td>兒童玩具</td>\n",
       "      <td>益智玩具</td>\n",
       "      <td>串珠/拼豆</td>\n",
       "      <td>113</td>\n",
       "      <td>amazon_0545498562_訴求_None_suitable for ages 8 ...</td>\n",
       "    </tr>\n",
       "  </tbody>\n",
       "</table>\n",
       "</div>"
      ],
      "text/plain": [
       "                                     id  source_product_id  domain  category  \\\n",
       "0  262eee05-b0af-4ec2-a711-d2cce5727c18  amazon_0545498562     NaN       NaN   \n",
       "1  a2f645d4-4340-46b4-9e69-58710e15ffec  amazon_0545498562     NaN       NaN   \n",
       "2  090cccc4-8132-438c-865c-8a16b44678ce  amazon_0545498562     NaN       NaN   \n",
       "3  4f44df21-411d-4a76-a615-266cd72e28d9  amazon_0545498562     NaN       NaN   \n",
       "4  73825118-2874-45f3-a099-3e92921bbd5d  amazon_0545498562     NaN       NaN   \n",
       "\n",
       "   subcategory  further_subcategory extend_class extend_subclass  \\\n",
       "0          NaN                  NaN           訴求             NaN   \n",
       "1          NaN                  NaN           訴求             NaN   \n",
       "2          NaN                  NaN           訴求             NaN   \n",
       "3          NaN                  NaN           訴求             NaN   \n",
       "4          NaN                  NaN           訴求             NaN   \n",
       "\n",
       "                               extend_detail  \\\n",
       "0           award-winning craft kit for kids   \n",
       "1             includes 9 vibrant clay colors   \n",
       "2  simple step-by-step instructions included   \n",
       "3               create over 35 unique charms   \n",
       "4                 suitable for ages 8 and up   \n",
       "\n",
       "                           extend_detail_raw  extend_unit  source  \\\n",
       "0           award-winning craft kit for kids          NaN  amazon   \n",
       "1             includes 9 vibrant clay colors          NaN  amazon   \n",
       "2  simple step-by-step instructions included          NaN  amazon   \n",
       "3               create over 35 unique charms          NaN  amazon   \n",
       "4                 suitable for ages 8 and up          NaN  amazon   \n",
       "\n",
       "  domain_from_classification category_from_classification  \\\n",
       "0                       母嬰兒童                         兒童玩具   \n",
       "1                       母嬰兒童                         兒童玩具   \n",
       "2                       母嬰兒童                         兒童玩具   \n",
       "3                       母嬰兒童                         兒童玩具   \n",
       "4                       母嬰兒童                         兒童玩具   \n",
       "\n",
       "  subcategory_from_classification further_subcategory_from_classification  \\\n",
       "0                            益智玩具                                   串珠/拼豆   \n",
       "1                            益智玩具                                   串珠/拼豆   \n",
       "2                            益智玩具                                   串珠/拼豆   \n",
       "3                            益智玩具                                   串珠/拼豆   \n",
       "4                            益智玩具                                   串珠/拼豆   \n",
       "\n",
       "  project_year                                          match_key  \n",
       "0          113  amazon_0545498562_訴求_None_award-winning craft ...  \n",
       "1          113  amazon_0545498562_訴求_None_includes 9 vibrant c...  \n",
       "2          113  amazon_0545498562_訴求_None_simple step-by-step ...  \n",
       "3          113  amazon_0545498562_訴求_None_create over 35 uniqu...  \n",
       "4          113  amazon_0545498562_訴求_None_suitable for ages 8 ...  "
      ]
     },
     "execution_count": 35,
     "metadata": {},
     "output_type": "execute_result"
    }
   ],
   "source": [
    "amazon_products_extend.head()"
   ]
  },
  {
   "cell_type": "code",
   "execution_count": 37,
   "metadata": {},
   "outputs": [
    {
     "data": {
      "text/plain": [
       "array(['訴求', '使用情境', '功能', '風格', '材質', '色彩', '族群'], dtype=object)"
      ]
     },
     "execution_count": 37,
     "metadata": {},
     "output_type": "execute_result"
    }
   ],
   "source": [
    "amazon_products_extend['extend_class'].unique()"
   ]
  },
  {
   "cell_type": "code",
   "execution_count": 38,
   "metadata": {},
   "outputs": [],
   "source": [
    "# 標準化類似的 extend class（材質_部件材質 -> 材質）\n",
    "amazon_products_extend['extend_class'] = (amazon_products_extend['extend_class']\n",
    "                                        .apply(\n",
    "                                            lambda ext_class: \"材質\" if ext_class == \"材質_部件材質\" else ext_class\n",
    "                                            )\n",
    "                                        )"
   ]
  },
  {
   "cell_type": "code",
   "execution_count": 39,
   "metadata": {},
   "outputs": [
    {
     "data": {
      "text/plain": [
       "array(['訴求', '使用情境', '功能', '風格', '材質', '色彩', '族群'], dtype=object)"
      ]
     },
     "execution_count": 39,
     "metadata": {},
     "output_type": "execute_result"
    }
   ],
   "source": [
    "amazon_products_extend['extend_class'].unique()"
   ]
  },
  {
   "cell_type": "markdown",
   "metadata": {},
   "source": [
    "extend_detail 標準化：\n",
    "1. 讀取對應的 extend class JSON 檔案\n",
    "2. 針對每列 raw data，如果 extend detail 出現在任何一個 value 的 list 裡面，標準化的 detail 設定為 key\n",
    "3. 若出現在 low quality tags 或是 remove tags 裡面，額外標註「low quality」\n",
    "\n",
    "amazon_tags = {\n",
    "    \"class\": {\n",
    "        \"tags\": ,\n",
    "        \"low_quality\": \n",
    "    }   \n",
    "}"
   ]
  },
  {
   "cell_type": "code",
   "execution_count": 63,
   "metadata": {},
   "outputs": [],
   "source": [
    "amazon_tags = {subclass: {\"tags\": {}, \"low_quality\": []} for subclass in classes}\n",
    "for subclass in classes:\n",
    "    with open(f\"./sources/amazon/final_{subclass}.json\", \"rb\") as f:\n",
    "        tags_json = json.load(f)\n",
    "        for detail in tags_json:\n",
    "            for tag in detail[\"aliases\"]:      # * 翻轉 tag pair, 轉換成 aliases: standard_tag 的格式\n",
    "                amazon_tags[subclass][\"tags\"][tag] = detail[\"standard_tag\"]\n",
    "    with open(f\"./sources/amazon/low_quality_{subclass}.json\", \"rb\") as f:\n",
    "        amazon_tags[subclass][\"low_quality\"] += json.load(f)\n",
    "    with open(f\"./sources/amazon/removed_{subclass}.json\", \"rb\") as f:\n",
    "        for detail in json.load(f):\n",
    "            if isinstance(detail[\"original_aliases\"], list):\n",
    "                amazon_tags[subclass][\"low_quality\"] += detail[\"original_aliases\"]\n",
    "            else:\n",
    "                print(detail[\"original_aliases\"])\n",
    "\n",
    "\n",
    "    # ***** 第二輪跑完的也放入\n",
    "    if subclass != \"材質\":\n",
    "        with open(f\"./sources/amazon/round_3/final_{subclass}.json\", \"rb\") as f:          \n",
    "            tags_json = json.load(f)\n",
    "            for detail in tags_json:\n",
    "                for tag in detail[\"aliases\"]:      # * 翻轉 tag pair, 轉換成 aliases: standard_tag 的格式\n",
    "                    amazon_tags[subclass][\"tags\"][tag] = detail[\"standard_tag\"]\n",
    "        with open(f\"./sources/amazon/round_3/low_quality_{subclass}.json\", \"rb\") as f:\n",
    "            amazon_tags[subclass][\"low_quality\"] += json.load(f)\n",
    "        with open(f\"./sources/amazon/round_3/removed_{subclass}.json\", \"rb\") as f:\n",
    "            for detail in json.load(f):\n",
    "                if isinstance(detail[\"original_aliases\"], list):\n",
    "                    amazon_tags[subclass][\"low_quality\"] += detail[\"original_aliases\"]\n",
    "                else:\n",
    "                    print(detail[\"original_aliases\"])\n",
    "\n",
    "    amazon_tags[subclass][\"low_quality\"] = set(amazon_tags[subclass][\"low_quality\"])\n",
    "    \n",
    "            "
   ]
  },
  {
   "cell_type": "code",
   "execution_count": 64,
   "metadata": {},
   "outputs": [],
   "source": [
    "for element in amazon_tags[subclass][\"low_quality\"]:\n",
    "    if isinstance(element, dict):\n",
    "        print(\"dict exists: \", element)"
   ]
  },
  {
   "cell_type": "code",
   "execution_count": 65,
   "metadata": {},
   "outputs": [],
   "source": [
    "def standarizing_amazon(row):\n",
    "    if row[\"extend_class\"] == \"色彩\":\n",
    "        row[\"standarized_tag\"] = row[\"extend_detail\"]\n",
    "        return row\n",
    "    else:\n",
    "        standarized_tag = amazon_tags[row['extend_class']]['tags'].get(row['extend_detail'], \"N/A\")\n",
    "        if standarized_tag == \"N/A\":\n",
    "            if row[\"extend_detail\"] in amazon_tags[row['extend_class']]['low_quality']:\n",
    "                standarized_tag = \"low_quality\"\n",
    "\n",
    "        row[\"standarized_tag\"] = standarized_tag\n",
    "        return row\n",
    "    "
   ]
  },
  {
   "cell_type": "code",
   "execution_count": 66,
   "metadata": {},
   "outputs": [
    {
     "name": "stderr",
     "output_type": "stream",
     "text": [
      "standarizing amazon products extend...: 100%|██████████| 1036016/1036016 [02:52<00:00, 6002.22it/s]\n"
     ]
    }
   ],
   "source": [
    "tqdm.pandas(desc = \"standarizing amazon products extend...\")\n",
    "amazon_standarized = amazon_products_extend.progress_apply(standarizing_amazon, axis = 1)"
   ]
  },
  {
   "cell_type": "code",
   "execution_count": 67,
   "metadata": {},
   "outputs": [
    {
     "name": "stdout",
     "output_type": "stream",
     "text": [
      "標籤種類覆蓋率: 95.49%\n"
     ]
    },
    {
     "data": {
      "text/plain": [
       "extend_class\n",
       "色彩      1.000000\n",
       "族群      0.998970\n",
       "使用情境    0.995902\n",
       "功能      0.993926\n",
       "訴求      0.973241\n",
       "風格      0.900812\n",
       "材質      0.378425\n",
       "dtype: float64"
      ]
     },
     "execution_count": 67,
     "metadata": {},
     "output_type": "execute_result"
    }
   ],
   "source": [
    "na_unique = len(amazon_standarized[amazon_standarized['standarized_tag'] == \"N/A\"][\"extend_detail\"].unique())\n",
    "total_unique = len(amazon_standarized['extend_detail'].unique())\n",
    "coverage_rate = (total_unique - na_unique) / total_unique\n",
    "print(f\"標籤種類覆蓋率: {coverage_rate:.2%}\")\n",
    "\n",
    "# 計算每個類別中，unique 標籤的覆蓋率\n",
    "coverage_by_class_unique = amazon_standarized.groupby('extend_class').apply(\n",
    "    lambda group: (group[group['standarized_tag'] != \"N/A\"]['extend_detail'].nunique()) / \n",
    "                  (group['extend_detail'].nunique()), include_groups = False\n",
    ").sort_values(ascending=False)\n",
    "coverage_by_class_unique"
   ]
  },
  {
   "cell_type": "markdown",
   "metadata": {},
   "source": [
    "## Save"
   ]
  },
  {
   "cell_type": "code",
   "execution_count": 68,
   "metadata": {},
   "outputs": [],
   "source": [
    "momo_standarized.to_excel(\"outputs/products_extend_momo_standarized.xlsx\")"
   ]
  },
  {
   "cell_type": "code",
   "execution_count": 69,
   "metadata": {},
   "outputs": [],
   "source": [
    "amazon_standarized.to_excel(\"outputs/products_extend_amazon_standarized.xlsx\")"
   ]
  },
  {
   "cell_type": "markdown",
   "metadata": {},
   "source": [
    "## Verification (by Gemini)"
   ]
  },
  {
   "cell_type": "code",
   "execution_count": 138,
   "metadata": {},
   "outputs": [],
   "source": [
    "class Claude:\n",
    "\n",
    "    batch_request_temp = lambda custom_id, system_prompt, input_msg: Request(\n",
    "        custom_id = custom_id,\n",
    "        params = MessageCreateParamsNonStreaming(\n",
    "            model = \"claude-3-7-sonnet-20250219\",\n",
    "            max_tokens = 20000,\n",
    "            system = system_prompt,\n",
    "            messages=[{\n",
    "                \"role\": \"user\",\n",
    "                \"content\": input_msg,\n",
    "            }]\n",
    "        ))\n",
    "    \n",
    "    user_prompt_temp = lambda id, product_categories_combination, tag_class, list_of_tags, list_of_low_quality_tags: json.dumps({\n",
    "        \"id\": id,\n",
    "        \"product_categories_combination\": product_categories_combination,\n",
    "        \"tag_class\": tag_class,\n",
    "        \"list_of_tags\": list_of_tags,\n",
    "        \"list_of_low_quality_tags\": list_of_low_quality_tags\n",
    "    }, ensure_ascii= False)\n",
    "    \n",
    "    def send_batch_requests(client, df, system_prompt):\n",
    "        \n",
    "        batch_items = []\n",
    "        for _, row in df.iterrows():\n",
    "            user_prompt = Claude.user_prompt_temp(\n",
    "                str(row[\"id\"]),\n",
    "                f\"{row[\"domain_from_classification\"]}/{row[\"category_from_classification\"]}/{row[\"subcategory_from_classification\"]}/{row['further_subcategory_from_classification']}\",\n",
    "                str(row[\"extend_class\"]),\n",
    "                str(row[\"standarized_tag\"]),\n",
    "                str(row[\"low_quality_tag\"])\n",
    "            )\n",
    "            request_obj = Claude.batch_request_temp(custom_id = row['id'],\n",
    "                                        system_prompt = system_prompt,\n",
    "                                        input_msg = user_prompt)\n",
    "            \n",
    "            batch_items.append(request_obj)\n",
    "\n",
    "        # * Send Request\n",
    "        batch = client.messages.batches.create(requests = batch_items)\n",
    "        print(f\"📦 Batch Created: batch_id: {batch.id}\")\n",
    "        return batch.id\n",
    "    \n",
    "    def retrieve_result(client, batch_id):\n",
    "        request_status = client.messages.batches.retrieve(\n",
    "                batch_id\n",
    "            ).request_counts\n",
    "        \n",
    "        if request_status.processing > 0:\n",
    "            print(f\"this batch has not been fully processed. status: {request_status}\")\n",
    "        else:\n",
    "            results = []\n",
    "            decode_error_indices = []\n",
    "            for result in client.messages.batches.results(\n",
    "                batch_id\n",
    "            ):\n",
    "                primary_key = result.custom_id\n",
    "                \n",
    "                content     = LlmManager.find_json_object(result.result.message.content[0].text)\n",
    "                if content == \"DecodeError\":\n",
    "                    print(f\"decode error at {primary_key}\")\n",
    "                    decode_error_indices.append(primary_key)\n",
    "                    continue\n",
    "                in_usage       = result.result.message.usage.input_tokens\n",
    "                out_usage      = result.result.message.usage.output_tokens\n",
    "                content[\"pk\"] = primary_key\n",
    "                content[\"usage_input\"] = in_usage\n",
    "                content[\"usage_output\"] = out_usage\n",
    "                results.append(content)\n",
    "\n",
    "            if request_status.errored > 0:\n",
    "                print(f\"{request_status.errored} rows ended with errors\")\n",
    "\n",
    "            return (results, decode_error_indices)\n",
    "        \n",
    "    def calculate_usage(row):\n",
    "        return (row[\"usage_input\"] * 1.5 / 1000000 + row[\"usage_output\"] * 7.5 / 1000000) * 30"
   ]
  },
  {
   "cell_type": "markdown",
   "metadata": {},
   "source": [
    "### Momo"
   ]
  },
  {
   "cell_type": "code",
   "execution_count": null,
   "metadata": {},
   "outputs": [],
   "source": [
    "momo_standarized = pd.read_excel(\"outputs/products_extend_momo_standarized.xlsx\")"
   ]
  },
  {
   "cell_type": "code",
   "execution_count": 70,
   "metadata": {},
   "outputs": [],
   "source": [
    "momo_standarized_toVerify = momo_standarized[~(momo_standarized['standarized_tag'] == \"N/A\")]"
   ]
  },
  {
   "cell_type": "code",
   "execution_count": 71,
   "metadata": {},
   "outputs": [
    {
     "data": {
      "text/html": [
       "<div>\n",
       "<style scoped>\n",
       "    .dataframe tbody tr th:only-of-type {\n",
       "        vertical-align: middle;\n",
       "    }\n",
       "\n",
       "    .dataframe tbody tr th {\n",
       "        vertical-align: top;\n",
       "    }\n",
       "\n",
       "    .dataframe thead th {\n",
       "        text-align: right;\n",
       "    }\n",
       "</style>\n",
       "<table border=\"1\" class=\"dataframe\">\n",
       "  <thead>\n",
       "    <tr style=\"text-align: right;\">\n",
       "      <th></th>\n",
       "      <th>id</th>\n",
       "      <th>source_product_id</th>\n",
       "      <th>domain</th>\n",
       "      <th>category</th>\n",
       "      <th>subcategory</th>\n",
       "      <th>further_subcategory</th>\n",
       "      <th>extend_class</th>\n",
       "      <th>extend_subclass</th>\n",
       "      <th>extend_detail</th>\n",
       "      <th>extend_detail_raw</th>\n",
       "      <th>extend_unit</th>\n",
       "      <th>source</th>\n",
       "      <th>domain_from_classification</th>\n",
       "      <th>category_from_classification</th>\n",
       "      <th>subcategory_from_classification</th>\n",
       "      <th>further_subcategory_from_classification</th>\n",
       "      <th>match_key</th>\n",
       "      <th>standarized_tag</th>\n",
       "    </tr>\n",
       "  </thead>\n",
       "  <tbody>\n",
       "    <tr>\n",
       "      <th>0</th>\n",
       "      <td>33c78847-7bd5-4a78-8139-9b9f461b4fb3</td>\n",
       "      <td>momo_10029797</td>\n",
       "      <td>NaN</td>\n",
       "      <td>NaN</td>\n",
       "      <td>NaN</td>\n",
       "      <td>NaN</td>\n",
       "      <td>使用情境</td>\n",
       "      <td>NaN</td>\n",
       "      <td>家庭</td>\n",
       "      <td>家庭</td>\n",
       "      <td>NaN</td>\n",
       "      <td>momo</td>\n",
       "      <td>智慧家電</td>\n",
       "      <td>通訊</td>\n",
       "      <td>行動通訊設備</td>\n",
       "      <td>無線電話</td>\n",
       "      <td>momo_10029797_使用情境_None_家庭_None</td>\n",
       "      <td>家庭使用</td>\n",
       "    </tr>\n",
       "    <tr>\n",
       "      <th>1</th>\n",
       "      <td>e9fbc893-9549-4d3e-a038-db38f5b0f283</td>\n",
       "      <td>momo_10029797</td>\n",
       "      <td>NaN</td>\n",
       "      <td>NaN</td>\n",
       "      <td>NaN</td>\n",
       "      <td>NaN</td>\n",
       "      <td>使用情境</td>\n",
       "      <td>NaN</td>\n",
       "      <td>辦公室</td>\n",
       "      <td>辦公室</td>\n",
       "      <td>NaN</td>\n",
       "      <td>momo</td>\n",
       "      <td>智慧家電</td>\n",
       "      <td>通訊</td>\n",
       "      <td>行動通訊設備</td>\n",
       "      <td>無線電話</td>\n",
       "      <td>momo_10029797_使用情境_None_辦公室_None</td>\n",
       "      <td>辦公</td>\n",
       "    </tr>\n",
       "  </tbody>\n",
       "</table>\n",
       "</div>"
      ],
      "text/plain": [
       "                                     id source_product_id  domain  category  \\\n",
       "0  33c78847-7bd5-4a78-8139-9b9f461b4fb3     momo_10029797     NaN       NaN   \n",
       "1  e9fbc893-9549-4d3e-a038-db38f5b0f283     momo_10029797     NaN       NaN   \n",
       "\n",
       "   subcategory  further_subcategory extend_class extend_subclass  \\\n",
       "0          NaN                  NaN         使用情境             NaN   \n",
       "1          NaN                  NaN         使用情境             NaN   \n",
       "\n",
       "  extend_detail extend_detail_raw  extend_unit source  \\\n",
       "0            家庭                家庭          NaN   momo   \n",
       "1           辦公室               辦公室          NaN   momo   \n",
       "\n",
       "  domain_from_classification category_from_classification  \\\n",
       "0                       智慧家電                           通訊   \n",
       "1                       智慧家電                           通訊   \n",
       "\n",
       "  subcategory_from_classification further_subcategory_from_classification  \\\n",
       "0                          行動通訊設備                                    無線電話   \n",
       "1                          行動通訊設備                                    無線電話   \n",
       "\n",
       "                          match_key standarized_tag  \n",
       "0   momo_10029797_使用情境_None_家庭_None            家庭使用  \n",
       "1  momo_10029797_使用情境_None_辦公室_None              辦公  "
      ]
     },
     "execution_count": 71,
     "metadata": {},
     "output_type": "execute_result"
    }
   ],
   "source": [
    "momo_standarized_toVerify.head(2)"
   ]
  },
  {
   "cell_type": "markdown",
   "metadata": {},
   "source": [
    "作法：\n",
    "1. 篩出每個 extend class + 子品類組合 下面的 unique standardized tags\n",
    "2. 問 AI，這些 tag 在特定子品類組合下面是否會過於廣泛或是太細節\n",
    "3. 請 AI 給修正建議"
   ]
  },
  {
   "cell_type": "markdown",
   "metadata": {},
   "source": [
    "Step 1."
   ]
  },
  {
   "cell_type": "code",
   "execution_count": 72,
   "metadata": {},
   "outputs": [
    {
     "name": "stderr",
     "output_type": "stream",
     "text": [
      "/tmp/ipykernel_5827/95274915.py:1: SettingWithCopyWarning: \n",
      "A value is trying to be set on a copy of a slice from a DataFrame.\n",
      "Try using .loc[row_indexer,col_indexer] = value instead\n",
      "\n",
      "See the caveats in the documentation: https://pandas.pydata.org/pandas-docs/stable/user_guide/indexing.html#returning-a-view-versus-a-copy\n",
      "  momo_standarized_toVerify.loc[:, \"low_quality_tag\"] = (momo_standarized_toVerify\n"
     ]
    }
   ],
   "source": [
    "momo_standarized_toVerify.loc[:, \"low_quality_tag\"] = (momo_standarized_toVerify\n",
    "                                                .copy()\n",
    "                                                .apply(\n",
    "                                                    lambda row: row['extend_detail'] if row['standarized_tag'] == \"low_quality\" \n",
    "                                                    else \"N/A\", axis = 1))\n",
    "momo_extend_grouped = (momo_standarized_toVerify\n",
    "        .groupby(\n",
    "            [\"domain_from_classification\", \n",
    "            \"category_from_classification\", \n",
    "            \"subcategory_from_classification\", \n",
    "            \"further_subcategory_from_classification\", \n",
    "            \"extend_class\"])\n",
    "        .agg({\"standarized_tag\": lambda x: pd.Series([_ for _ in x if _ != \"low_quality\"]).unique().tolist(),\n",
    "            \"low_quality_tag\": lambda x: pd.Series([_ for _ in x if _ != \"N/A\"]).unique().tolist()})\n",
    "        .reset_index())\n"
   ]
  },
  {
   "cell_type": "code",
   "execution_count": 73,
   "metadata": {},
   "outputs": [
    {
     "data": {
      "text/html": [
       "<div>\n",
       "<style scoped>\n",
       "    .dataframe tbody tr th:only-of-type {\n",
       "        vertical-align: middle;\n",
       "    }\n",
       "\n",
       "    .dataframe tbody tr th {\n",
       "        vertical-align: top;\n",
       "    }\n",
       "\n",
       "    .dataframe thead th {\n",
       "        text-align: right;\n",
       "    }\n",
       "</style>\n",
       "<table border=\"1\" class=\"dataframe\">\n",
       "  <thead>\n",
       "    <tr style=\"text-align: right;\">\n",
       "      <th></th>\n",
       "      <th>domain_from_classification</th>\n",
       "      <th>category_from_classification</th>\n",
       "      <th>subcategory_from_classification</th>\n",
       "      <th>further_subcategory_from_classification</th>\n",
       "      <th>extend_class</th>\n",
       "      <th>standarized_tag</th>\n",
       "      <th>low_quality_tag</th>\n",
       "      <th>id</th>\n",
       "    </tr>\n",
       "  </thead>\n",
       "  <tbody>\n",
       "    <tr>\n",
       "      <th>0</th>\n",
       "      <td>健康照護</td>\n",
       "      <td>健康與調理用品</td>\n",
       "      <td>循環/能量用品</td>\n",
       "      <td>健康頸鍊/手環</td>\n",
       "      <td>使用情境</td>\n",
       "      <td>[身體按摩, 按摩舒緩, 大人使用, 工作效率, 水上活動, 全身使用, 穿戴使用, 運動訓...</td>\n",
       "      <td>[手部, 臀部, 足部, 骨盆, 下半身, 一整天都可以配戴, 浮潛, 氣場正向能量, 氣場...</td>\n",
       "      <td>momo_1</td>\n",
       "    </tr>\n",
       "    <tr>\n",
       "      <th>1</th>\n",
       "      <td>健康照護</td>\n",
       "      <td>健康與調理用品</td>\n",
       "      <td>循環/能量用品</td>\n",
       "      <td>健康頸鍊/手環</td>\n",
       "      <td>功能</td>\n",
       "      <td>[促進血液循環, 消除疲勞, 減壓功能, 長時間使用, 補充, 提升睡眠品質, 壓力控制, ...</td>\n",
       "      <td>[消除肩頸硬叩叩, 增加深層睡眠, 提升身心平衡, 思路清晰, 增加深眠, 回應更靈敏, 易...</td>\n",
       "      <td>momo_2</td>\n",
       "    </tr>\n",
       "    <tr>\n",
       "      <th>2</th>\n",
       "      <td>健康照護</td>\n",
       "      <td>健康與調理用品</td>\n",
       "      <td>循環/能量用品</td>\n",
       "      <td>健康頸鍊/手環</td>\n",
       "      <td>族群</td>\n",
       "      <td>[幼童, 男性, 女性, 成人, 年長者, 孕婦, 嬰幼兒, 青少年, 運動愛好者, 時尚愛...</td>\n",
       "      <td>[大人, 肩頸]</td>\n",
       "      <td>momo_3</td>\n",
       "    </tr>\n",
       "  </tbody>\n",
       "</table>\n",
       "</div>"
      ],
      "text/plain": [
       "  domain_from_classification category_from_classification  \\\n",
       "0                       健康照護                      健康與調理用品   \n",
       "1                       健康照護                      健康與調理用品   \n",
       "2                       健康照護                      健康與調理用品   \n",
       "\n",
       "  subcategory_from_classification further_subcategory_from_classification  \\\n",
       "0                         循環/能量用品                                 健康頸鍊/手環   \n",
       "1                         循環/能量用品                                 健康頸鍊/手環   \n",
       "2                         循環/能量用品                                 健康頸鍊/手環   \n",
       "\n",
       "  extend_class                                    standarized_tag  \\\n",
       "0         使用情境  [身體按摩, 按摩舒緩, 大人使用, 工作效率, 水上活動, 全身使用, 穿戴使用, 運動訓...   \n",
       "1           功能  [促進血液循環, 消除疲勞, 減壓功能, 長時間使用, 補充, 提升睡眠品質, 壓力控制, ...   \n",
       "2           族群  [幼童, 男性, 女性, 成人, 年長者, 孕婦, 嬰幼兒, 青少年, 運動愛好者, 時尚愛...   \n",
       "\n",
       "                                     low_quality_tag      id  \n",
       "0  [手部, 臀部, 足部, 骨盆, 下半身, 一整天都可以配戴, 浮潛, 氣場正向能量, 氣場...  momo_1  \n",
       "1  [消除肩頸硬叩叩, 增加深層睡眠, 提升身心平衡, 思路清晰, 增加深眠, 回應更靈敏, 易...  momo_2  \n",
       "2                                           [大人, 肩頸]  momo_3  "
      ]
     },
     "execution_count": 73,
     "metadata": {},
     "output_type": "execute_result"
    }
   ],
   "source": [
    "momo_extend_grouped[\"id\"] = [f\"momo_{i+1}\" for i in range(len(momo_extend_grouped))]\n",
    "momo_extend_grouped.head(3)"
   ]
  },
  {
   "cell_type": "code",
   "execution_count": 75,
   "metadata": {},
   "outputs": [],
   "source": [
    "sys_prompt = \"\"\"You are a competent marketing analysis assistant. Now you are helping me verify the reasonability of the standarized tag for product extensive detail data from e-commerce platform.\n",
    "\n",
    "I will give you a tag class, a list of tags under the tag class, and the corresponding product categories for these tags. I need you to focus on these lists of tags and to verify whether there is any tag that is too broadly defined, too narrowly defined, or unresonable or incomprehensive under the product category combination. \n",
    "\n",
    "The input looks like the following:\n",
    "{\n",
    "    \"id\": unique idenfication number for each request[str],\n",
    "    \"product_categories_combination\": a string of product categories combination, in the following format: domain/category/subcategory/further_subcategory[str],\n",
    "    \"tag_class\": targed tag class for all tags.[str],\n",
    "    \"list_of_tags\": a list of tags under the specified tag_class with respect to the product_categories_combination[list],\n",
    "    \"list_of_low_quality_tags\": a list of low quality tags under the specified tag_class with respect to the product_categories_combination[list]\n",
    "}\n",
    "\n",
    "CONTENT REQUIREMENTS:\n",
    "- In terms of the \"list_of_tags\" column, ONLY answer tags that you think having problems, with reasoning and recommendation on a new name of the tag. The recommendation should be made with a view to make the tag more suitable for the specific categories combination.\n",
    "\n",
    "- As for the \"list_of_low_quality_tags\" column, answer a polished tag name for each tag inside, with reasoning. You should strive in renaming the low quality tag into an existing tag in the 'list_of_tags' column.\n",
    "\n",
    "The output schema is as follows:\n",
    "{\n",
    "    \"id\": output EXACTLY the same id as input[str],\n",
    "    \"list_of_tags_advices\": [\n",
    "        {\n",
    "            \"original_tag_name\": the EXACT original tag name that you think having problems in the list_of_tags,\n",
    "            \"recommended_tag_name\": your recommended tag name,\n",
    "            \"reasoning\": reasoning\n",
    "        },...\n",
    "    ],\n",
    "    \"list_of_low_quality_tags_advices\": [\n",
    "        {\n",
    "            \"original_tag_name\": the EXACT original tag name in the list_of_low_quality_tags,\n",
    "            \"recommended_tag_name\": your recommended tag name. better be the existing tag name in the list_of_tags column,\n",
    "            \"reasoning\": reasoning\n",
    "        }\n",
    "    ]\n",
    "}\n",
    "\n",
    "TECHNICAL REQUIREMENTS:\n",
    "1. Use JSON as output format, and return only the JSON object. Do not answer any other texts.\n",
    "2. Use double quote \" for JSON format, but use single quote for any quotation mark inside a JSON string, to avoid JSON decode error.\n",
    "3. Do not change the original tag name, so that I can map it back.\"\"\""
   ]
  },
  {
   "cell_type": "code",
   "execution_count": 83,
   "metadata": {},
   "outputs": [],
   "source": [
    "config = dotenv_values('.env')\n",
    "gemini = genai.Client(api_key = config[\"GEMINI_KEY\"])\n",
    "model_params = types.GenerateContentConfig(\n",
    "    system_instruction = sys_prompt\n",
    ")"
   ]
  },
  {
   "cell_type": "code",
   "execution_count": 84,
   "metadata": {},
   "outputs": [],
   "source": [
    "momo_extend_grouped_no_color = momo_extend_grouped[momo_extend_grouped[\"extend_class\"] != \"色彩\"]"
   ]
  },
  {
   "cell_type": "markdown",
   "metadata": {},
   "source": [
    "Send Batch Request"
   ]
  },
  {
   "cell_type": "code",
   "execution_count": 85,
   "metadata": {},
   "outputs": [
    {
     "name": "stdout",
     "output_type": "stream",
     "text": [
      "📦 Batch Created: batch_id: msgbatch_017psSBUggV5Gtw5n8G4jMoX\n"
     ]
    },
    {
     "data": {
      "text/plain": [
       "'msgbatch_017psSBUggV5Gtw5n8G4jMoX'"
      ]
     },
     "execution_count": 85,
     "metadata": {},
     "output_type": "execute_result"
    }
   ],
   "source": [
    "claude_client = anthropic.Anthropic(\n",
    "    api_key=config[\"CLAUDE_KEY\"]\n",
    ")\n",
    "# * test on few data\n",
    "Claude.send_batch_requests(claude_client, momo_extend_grouped_no_color, sys_prompt)"
   ]
  },
  {
   "cell_type": "markdown",
   "metadata": {},
   "source": [
    "Get status & Save"
   ]
  },
  {
   "cell_type": "code",
   "execution_count": 140,
   "metadata": {},
   "outputs": [
    {
     "name": "stdout",
     "output_type": "stream",
     "text": [
      "decode error at momo_340\n",
      "decode error at momo_430\n",
      "decode error at momo_444\n",
      "decode error at momo_451\n",
      "decode error at momo_468\n",
      "decode error at momo_945\n",
      "decode error at momo_962\n",
      "decode error at momo_1145\n",
      "decode error at momo_1619\n",
      "decode error at momo_1682\n",
      "decode error at momo_1683\n",
      "decode error at momo_1897\n",
      "decode error at momo_2126\n"
     ]
    }
   ],
   "source": [
    "claude_client.messages.batches.retrieve(\n",
    "    'msgbatch_017psSBUggV5Gtw5n8G4jMoX'\n",
    ").request_counts\n",
    "\n",
    "res = Claude.retrieve_result(claude_client, 'msgbatch_017psSBUggV5Gtw5n8G4jMoX')\n",
    "momo_succeeded_round1 = pd.DataFrame(res[0])\n",
    "momo_decode_error_round1 = res[1]\n",
    "try:\n",
    "    momo_succeeded_round1[\"total_cost_twd\"] = momo_succeeded_round1.apply(Claude.calculate_usage, axis = 1)\n",
    "\n",
    "except:\n",
    "    pass"
   ]
  },
  {
   "cell_type": "markdown",
   "metadata": {},
   "source": [
    "round 2 (重跑 decode error 的)"
   ]
  },
  {
   "cell_type": "code",
   "execution_count": 141,
   "metadata": {},
   "outputs": [
    {
     "data": {
      "text/plain": [
       "['momo_340',\n",
       " 'momo_430',\n",
       " 'momo_444',\n",
       " 'momo_451',\n",
       " 'momo_468',\n",
       " 'momo_945',\n",
       " 'momo_962',\n",
       " 'momo_1145',\n",
       " 'momo_1619',\n",
       " 'momo_1682',\n",
       " 'momo_1683',\n",
       " 'momo_1897',\n",
       " 'momo_2126']"
      ]
     },
     "execution_count": 141,
     "metadata": {},
     "output_type": "execute_result"
    }
   ],
   "source": [
    "momo_decode_error_round1"
   ]
  },
  {
   "cell_type": "code",
   "execution_count": 142,
   "metadata": {},
   "outputs": [],
   "source": [
    "momo_extend_grouped_no_color_round2 = (momo_extend_grouped_no_color\n",
    "                                       .set_index(\"id\")\n",
    "                                       .loc[momo_decode_error_round1, :]\n",
    "                                       .reset_index())"
   ]
  },
  {
   "cell_type": "code",
   "execution_count": 131,
   "metadata": {},
   "outputs": [
    {
     "name": "stdout",
     "output_type": "stream",
     "text": [
      "📦 Batch Created: batch_id: msgbatch_01KSGMUKbfVMj7bim9rU8i5s\n"
     ]
    },
    {
     "data": {
      "text/plain": [
       "'msgbatch_01KSGMUKbfVMj7bim9rU8i5s'"
      ]
     },
     "execution_count": 131,
     "metadata": {},
     "output_type": "execute_result"
    }
   ],
   "source": [
    "claude_client = anthropic.Anthropic(\n",
    "    api_key=config[\"CLAUDE_KEY\"]\n",
    ")\n",
    "# * second trial\n",
    "Claude.send_batch_requests(claude_client, momo_extend_grouped_no_color_round2, sys_prompt)"
   ]
  },
  {
   "cell_type": "code",
   "execution_count": 143,
   "metadata": {},
   "outputs": [
    {
     "name": "stdout",
     "output_type": "stream",
     "text": [
      "decode error at momo_444\n",
      "decode error at momo_451\n",
      "decode error at momo_1682\n"
     ]
    },
    {
     "data": {
      "text/html": [
       "<div>\n",
       "<style scoped>\n",
       "    .dataframe tbody tr th:only-of-type {\n",
       "        vertical-align: middle;\n",
       "    }\n",
       "\n",
       "    .dataframe tbody tr th {\n",
       "        vertical-align: top;\n",
       "    }\n",
       "\n",
       "    .dataframe thead th {\n",
       "        text-align: right;\n",
       "    }\n",
       "</style>\n",
       "<table border=\"1\" class=\"dataframe\">\n",
       "  <thead>\n",
       "    <tr style=\"text-align: right;\">\n",
       "      <th></th>\n",
       "      <th>id</th>\n",
       "      <th>list_of_tags_advices</th>\n",
       "      <th>list_of_low_quality_tags_advices</th>\n",
       "      <th>pk</th>\n",
       "      <th>usage_input</th>\n",
       "      <th>usage_output</th>\n",
       "      <th>total_cost_twd</th>\n",
       "    </tr>\n",
       "  </thead>\n",
       "  <tbody>\n",
       "    <tr>\n",
       "      <th>0</th>\n",
       "      <td>momo_340</td>\n",
       "      <td>[{'original_tag_name': '模擬真實體驗', 'recommended_...</td>\n",
       "      <td>[{'original_tag_name': '智慧進水', 'recommended_ta...</td>\n",
       "      <td>momo_340</td>\n",
       "      <td>3423</td>\n",
       "      <td>2710</td>\n",
       "      <td>0.763785</td>\n",
       "    </tr>\n",
       "    <tr>\n",
       "      <th>1</th>\n",
       "      <td>momo_430</td>\n",
       "      <td>[{'original_tag_name': '可調整設計', 'recommended_t...</td>\n",
       "      <td>[{'original_tag_name': '燈照角度可隨意調整', 'recommend...</td>\n",
       "      <td>momo_430</td>\n",
       "      <td>3643</td>\n",
       "      <td>1924</td>\n",
       "      <td>0.596835</td>\n",
       "    </tr>\n",
       "    <tr>\n",
       "      <th>2</th>\n",
       "      <td>momo_468</td>\n",
       "      <td>[{'original_tag_name': '廣闊操作', 'recommended_ta...</td>\n",
       "      <td>[{'original_tag_name': '多種吹法', 'recommended_ta...</td>\n",
       "      <td>momo_468</td>\n",
       "      <td>5450</td>\n",
       "      <td>2857</td>\n",
       "      <td>0.888075</td>\n",
       "    </tr>\n",
       "    <tr>\n",
       "      <th>3</th>\n",
       "      <td>momo_945</td>\n",
       "      <td>[{'original_tag_name': 'PC用戶', 'recommended_ta...</td>\n",
       "      <td>[{'original_tag_name': '具備藍牙 4.0 功能的設備使用者', 'r...</td>\n",
       "      <td>momo_945</td>\n",
       "      <td>4337</td>\n",
       "      <td>2376</td>\n",
       "      <td>0.729765</td>\n",
       "    </tr>\n",
       "    <tr>\n",
       "      <th>4</th>\n",
       "      <td>momo_962</td>\n",
       "      <td>[{'original_tag_name': '可替換設計', 'recommended_t...</td>\n",
       "      <td>[{'original_tag_name': '快速液晶技術', 'recommended_...</td>\n",
       "      <td>momo_962</td>\n",
       "      <td>4243</td>\n",
       "      <td>2905</td>\n",
       "      <td>0.844560</td>\n",
       "    </tr>\n",
       "    <tr>\n",
       "      <th>5</th>\n",
       "      <td>momo_1145</td>\n",
       "      <td>[{'original_tag_name': '超輕量', 'recommended_tag...</td>\n",
       "      <td>[{'original_tag_name': '流行美觀', 'recommended_ta...</td>\n",
       "      <td>momo_1145</td>\n",
       "      <td>3004</td>\n",
       "      <td>1579</td>\n",
       "      <td>0.490455</td>\n",
       "    </tr>\n",
       "    <tr>\n",
       "      <th>6</th>\n",
       "      <td>momo_1619</td>\n",
       "      <td>[{'original_tag_name': '啟動功能', 'recommended_ta...</td>\n",
       "      <td>[{'original_tag_name': '拼出旋律', 'recommended_ta...</td>\n",
       "      <td>momo_1619</td>\n",
       "      <td>3327</td>\n",
       "      <td>2689</td>\n",
       "      <td>0.754740</td>\n",
       "    </tr>\n",
       "    <tr>\n",
       "      <th>7</th>\n",
       "      <td>momo_1683</td>\n",
       "      <td>[{'original_tag_name': '卡通角色粉絲', 'recommended_...</td>\n",
       "      <td>[{'original_tag_name': 'STEIFF', 'recommended_...</td>\n",
       "      <td>momo_1683</td>\n",
       "      <td>1645</td>\n",
       "      <td>5415</td>\n",
       "      <td>1.292400</td>\n",
       "    </tr>\n",
       "    <tr>\n",
       "      <th>8</th>\n",
       "      <td>momo_1897</td>\n",
       "      <td>[{'original_tag_name': '家居收納', 'recommended_ta...</td>\n",
       "      <td>[{'original_tag_name': '單邊擠奶', 'recommended_ta...</td>\n",
       "      <td>momo_1897</td>\n",
       "      <td>2940</td>\n",
       "      <td>3785</td>\n",
       "      <td>0.983925</td>\n",
       "    </tr>\n",
       "    <tr>\n",
       "      <th>9</th>\n",
       "      <td>momo_2126</td>\n",
       "      <td>[{'original_tag_name': '輔助行動', 'recommended_ta...</td>\n",
       "      <td>[{'original_tag_name': '軟墊便圈', 'recommended_ta...</td>\n",
       "      <td>momo_2126</td>\n",
       "      <td>1027</td>\n",
       "      <td>2014</td>\n",
       "      <td>0.499365</td>\n",
       "    </tr>\n",
       "  </tbody>\n",
       "</table>\n",
       "</div>"
      ],
      "text/plain": [
       "          id                               list_of_tags_advices  \\\n",
       "0   momo_340  [{'original_tag_name': '模擬真實體驗', 'recommended_...   \n",
       "1   momo_430  [{'original_tag_name': '可調整設計', 'recommended_t...   \n",
       "2   momo_468  [{'original_tag_name': '廣闊操作', 'recommended_ta...   \n",
       "3   momo_945  [{'original_tag_name': 'PC用戶', 'recommended_ta...   \n",
       "4   momo_962  [{'original_tag_name': '可替換設計', 'recommended_t...   \n",
       "5  momo_1145  [{'original_tag_name': '超輕量', 'recommended_tag...   \n",
       "6  momo_1619  [{'original_tag_name': '啟動功能', 'recommended_ta...   \n",
       "7  momo_1683  [{'original_tag_name': '卡通角色粉絲', 'recommended_...   \n",
       "8  momo_1897  [{'original_tag_name': '家居收納', 'recommended_ta...   \n",
       "9  momo_2126  [{'original_tag_name': '輔助行動', 'recommended_ta...   \n",
       "\n",
       "                    list_of_low_quality_tags_advices         pk  usage_input  \\\n",
       "0  [{'original_tag_name': '智慧進水', 'recommended_ta...   momo_340         3423   \n",
       "1  [{'original_tag_name': '燈照角度可隨意調整', 'recommend...   momo_430         3643   \n",
       "2  [{'original_tag_name': '多種吹法', 'recommended_ta...   momo_468         5450   \n",
       "3  [{'original_tag_name': '具備藍牙 4.0 功能的設備使用者', 'r...   momo_945         4337   \n",
       "4  [{'original_tag_name': '快速液晶技術', 'recommended_...   momo_962         4243   \n",
       "5  [{'original_tag_name': '流行美觀', 'recommended_ta...  momo_1145         3004   \n",
       "6  [{'original_tag_name': '拼出旋律', 'recommended_ta...  momo_1619         3327   \n",
       "7  [{'original_tag_name': 'STEIFF', 'recommended_...  momo_1683         1645   \n",
       "8  [{'original_tag_name': '單邊擠奶', 'recommended_ta...  momo_1897         2940   \n",
       "9  [{'original_tag_name': '軟墊便圈', 'recommended_ta...  momo_2126         1027   \n",
       "\n",
       "   usage_output  total_cost_twd  \n",
       "0          2710        0.763785  \n",
       "1          1924        0.596835  \n",
       "2          2857        0.888075  \n",
       "3          2376        0.729765  \n",
       "4          2905        0.844560  \n",
       "5          1579        0.490455  \n",
       "6          2689        0.754740  \n",
       "7          5415        1.292400  \n",
       "8          3785        0.983925  \n",
       "9          2014        0.499365  "
      ]
     },
     "execution_count": 143,
     "metadata": {},
     "output_type": "execute_result"
    }
   ],
   "source": [
    "claude_client.messages.batches.retrieve(\n",
    "    'msgbatch_01KSGMUKbfVMj7bim9rU8i5s'\n",
    ").request_counts\n",
    "\n",
    "res = Claude.retrieve_result(claude_client, 'msgbatch_01KSGMUKbfVMj7bim9rU8i5s')\n",
    "momo_succeeded_round2 = pd.DataFrame(res[0])\n",
    "momo_decode_error_round2 = res[1]\n",
    "try:\n",
    "    momo_succeeded_round2[\"total_cost_twd\"] = momo_succeeded_round2.apply(Claude.calculate_usage, axis = 1)\n",
    "\n",
    "except:\n",
    "    pass\n",
    "\n",
    "momo_succeeded_round2"
   ]
  },
  {
   "cell_type": "markdown",
   "metadata": {},
   "source": [
    "round 3 (重跑 round 2 decode error 的)"
   ]
  },
  {
   "cell_type": "code",
   "execution_count": 144,
   "metadata": {},
   "outputs": [
    {
     "data": {
      "text/plain": [
       "['momo_444', 'momo_451', 'momo_1682']"
      ]
     },
     "execution_count": 144,
     "metadata": {},
     "output_type": "execute_result"
    }
   ],
   "source": [
    "momo_decode_error_round2"
   ]
  },
  {
   "cell_type": "code",
   "execution_count": 145,
   "metadata": {},
   "outputs": [],
   "source": [
    "momo_extend_grouped_no_color_round3 = (momo_extend_grouped_no_color_round2\n",
    "                                       .set_index(\"id\")\n",
    "                                       .loc[momo_decode_error_round2, :]\n",
    "                                       .reset_index())"
   ]
  },
  {
   "cell_type": "code",
   "execution_count": 147,
   "metadata": {},
   "outputs": [
    {
     "name": "stdout",
     "output_type": "stream",
     "text": [
      "📦 Batch Created: batch_id: msgbatch_01QgPm93enEDgNJwx68B1Wuf\n"
     ]
    },
    {
     "data": {
      "text/plain": [
       "'msgbatch_01QgPm93enEDgNJwx68B1Wuf'"
      ]
     },
     "execution_count": 147,
     "metadata": {},
     "output_type": "execute_result"
    }
   ],
   "source": [
    "claude_client = anthropic.Anthropic(\n",
    "    api_key=config[\"CLAUDE_KEY\"]\n",
    ")\n",
    "# * second trial\n",
    "Claude.send_batch_requests(claude_client, momo_extend_grouped_no_color_round3, sys_prompt)"
   ]
  },
  {
   "cell_type": "code",
   "execution_count": 154,
   "metadata": {},
   "outputs": [
    {
     "data": {
      "text/html": [
       "<div>\n",
       "<style scoped>\n",
       "    .dataframe tbody tr th:only-of-type {\n",
       "        vertical-align: middle;\n",
       "    }\n",
       "\n",
       "    .dataframe tbody tr th {\n",
       "        vertical-align: top;\n",
       "    }\n",
       "\n",
       "    .dataframe thead th {\n",
       "        text-align: right;\n",
       "    }\n",
       "</style>\n",
       "<table border=\"1\" class=\"dataframe\">\n",
       "  <thead>\n",
       "    <tr style=\"text-align: right;\">\n",
       "      <th></th>\n",
       "      <th>id</th>\n",
       "      <th>list_of_tags_advices</th>\n",
       "      <th>list_of_low_quality_tags_advices</th>\n",
       "      <th>pk</th>\n",
       "      <th>usage_input</th>\n",
       "      <th>usage_output</th>\n",
       "      <th>total_cost_twd</th>\n",
       "    </tr>\n",
       "  </thead>\n",
       "  <tbody>\n",
       "    <tr>\n",
       "      <th>0</th>\n",
       "      <td>momo_444</td>\n",
       "      <td>[{'original_tag_name': '空氣淨化', 'recommended_ta...</td>\n",
       "      <td>[{'original_tag_name': '適用多型號', 'recommended_t...</td>\n",
       "      <td>momo_444</td>\n",
       "      <td>4538</td>\n",
       "      <td>1386</td>\n",
       "      <td>0.516060</td>\n",
       "    </tr>\n",
       "    <tr>\n",
       "      <th>1</th>\n",
       "      <td>momo_451</td>\n",
       "      <td>[{'original_tag_name': '免插電', 'recommended_tag...</td>\n",
       "      <td>[{'original_tag_name': '無耗材', 'recommended_tag...</td>\n",
       "      <td>momo_451</td>\n",
       "      <td>3956</td>\n",
       "      <td>3491</td>\n",
       "      <td>0.963495</td>\n",
       "    </tr>\n",
       "    <tr>\n",
       "      <th>2</th>\n",
       "      <td>momo_1682</td>\n",
       "      <td>[{'original_tag_name': '狗狗散步', 'recommended_ta...</td>\n",
       "      <td>[{'original_tag_name': '適合抓握', 'recommended_ta...</td>\n",
       "      <td>momo_1682</td>\n",
       "      <td>2411</td>\n",
       "      <td>2402</td>\n",
       "      <td>0.648945</td>\n",
       "    </tr>\n",
       "  </tbody>\n",
       "</table>\n",
       "</div>"
      ],
      "text/plain": [
       "          id                               list_of_tags_advices  \\\n",
       "0   momo_444  [{'original_tag_name': '空氣淨化', 'recommended_ta...   \n",
       "1   momo_451  [{'original_tag_name': '免插電', 'recommended_tag...   \n",
       "2  momo_1682  [{'original_tag_name': '狗狗散步', 'recommended_ta...   \n",
       "\n",
       "                    list_of_low_quality_tags_advices         pk  usage_input  \\\n",
       "0  [{'original_tag_name': '適用多型號', 'recommended_t...   momo_444         4538   \n",
       "1  [{'original_tag_name': '無耗材', 'recommended_tag...   momo_451         3956   \n",
       "2  [{'original_tag_name': '適合抓握', 'recommended_ta...  momo_1682         2411   \n",
       "\n",
       "   usage_output  total_cost_twd  \n",
       "0          1386        0.516060  \n",
       "1          3491        0.963495  \n",
       "2          2402        0.648945  "
      ]
     },
     "execution_count": 154,
     "metadata": {},
     "output_type": "execute_result"
    }
   ],
   "source": [
    "claude_client.messages.batches.retrieve(\n",
    "    'msgbatch_01QgPm93enEDgNJwx68B1Wuf'\n",
    ").request_counts\n",
    "\n",
    "res = Claude.retrieve_result(claude_client, 'msgbatch_01QgPm93enEDgNJwx68B1Wuf')\n",
    "momo_succeeded_round3 = pd.DataFrame(res[0])\n",
    "momo_decode_error_round3 = res[1]\n",
    "try:\n",
    "    momo_succeeded_round3[\"total_cost_twd\"] = momo_succeeded_round3.apply(Claude.calculate_usage, axis = 1)\n",
    "\n",
    "except:\n",
    "    pass\n",
    "\n",
    "momo_succeeded_round3"
   ]
  },
  {
   "cell_type": "code",
   "execution_count": null,
   "metadata": {},
   "outputs": [],
   "source": [
    "# \n",
    "# * Concatenate All Results\n",
    "momo_verified_agg = pd.concat([momo_succeeded_round1, momo_succeeded_round2, momo_succeeded_round3])"
   ]
  },
  {
   "cell_type": "code",
   "execution_count": 161,
   "metadata": {},
   "outputs": [
    {
     "data": {
      "text/plain": [
       "Index(['id', 'list_of_tags_advices', 'list_of_low_quality_tags_advices', 'pk',\n",
       "       'usage_input', 'usage_output', 'total_cost_twd'],\n",
       "      dtype='object')"
      ]
     },
     "execution_count": 161,
     "metadata": {},
     "output_type": "execute_result"
    }
   ],
   "source": [
    "momo_verified_agg.columns"
   ]
  },
  {
   "cell_type": "code",
   "execution_count": 187,
   "metadata": {},
   "outputs": [],
   "source": [
    "# * list of tags advices (一般 tag 的建議)\n",
    "momo_ls_tags_advices = momo_verified_agg.explode('list_of_tags_advices').reset_index(drop = True)\n",
    "momo_ls_tags_advices = pd.concat([momo_ls_tags_advices, \n",
    "                                  pd.json_normalize(momo_ls_tags_advices['list_of_tags_advices'])], axis = 1) \n",
    "momo_ls_tags_advices = momo_ls_tags_advices.drop([\"list_of_low_quality_tags_advices\", 'list_of_tags_advices'], axis = 1)\n",
    "momo_ls_tags_advices['label'] = 'normal'\n",
    "\n",
    "# * list of low quality tags \n",
    "momo_ls_low_quality_tags_advices = momo_verified_agg.explode('list_of_low_quality_tags_advices').reset_index(drop = True)\n",
    "momo_ls_low_quality_tags_advices = pd.concat([momo_ls_low_quality_tags_advices, \n",
    "                                  pd.json_normalize(momo_ls_low_quality_tags_advices['list_of_low_quality_tags_advices'])], axis = 1) \n",
    "momo_ls_low_quality_tags_advices = momo_ls_low_quality_tags_advices.drop([\"list_of_low_quality_tags_advices\", 'list_of_tags_advices'], axis = 1)\n",
    "momo_ls_low_quality_tags_advices['label'] = 'low_quality'\n"
   ]
  },
  {
   "cell_type": "code",
   "execution_count": 199,
   "metadata": {},
   "outputs": [],
   "source": [
    "momo_verified_merged_back = (\n",
    "    pd.merge(momo_extend_grouped_no_color, \n",
    "             pd.concat([momo_ls_tags_advices, momo_ls_low_quality_tags_advices]).sort_values([\"id\", \"label\"]),\n",
    "             on = \"id\",\n",
    "             how = \"left\")\n",
    "    .drop([\"standarized_tag\", \"low_quality_tag\", \"pk\"], axis = 1))"
   ]
  },
  {
   "cell_type": "code",
   "execution_count": 201,
   "metadata": {},
   "outputs": [
    {
     "data": {
      "text/html": [
       "<div>\n",
       "<style scoped>\n",
       "    .dataframe tbody tr th:only-of-type {\n",
       "        vertical-align: middle;\n",
       "    }\n",
       "\n",
       "    .dataframe tbody tr th {\n",
       "        vertical-align: top;\n",
       "    }\n",
       "\n",
       "    .dataframe thead th {\n",
       "        text-align: right;\n",
       "    }\n",
       "</style>\n",
       "<table border=\"1\" class=\"dataframe\">\n",
       "  <thead>\n",
       "    <tr style=\"text-align: right;\">\n",
       "      <th></th>\n",
       "      <th>domain_from_classification</th>\n",
       "      <th>category_from_classification</th>\n",
       "      <th>subcategory_from_classification</th>\n",
       "      <th>further_subcategory_from_classification</th>\n",
       "      <th>extend_class</th>\n",
       "      <th>id</th>\n",
       "      <th>usage_input</th>\n",
       "      <th>usage_output</th>\n",
       "      <th>total_cost_twd</th>\n",
       "      <th>original_tag_name</th>\n",
       "      <th>recommended_tag_name</th>\n",
       "      <th>reasoning</th>\n",
       "      <th>label</th>\n",
       "    </tr>\n",
       "  </thead>\n",
       "  <tbody>\n",
       "    <tr>\n",
       "      <th>0</th>\n",
       "      <td>健康照護</td>\n",
       "      <td>健康與調理用品</td>\n",
       "      <td>循環/能量用品</td>\n",
       "      <td>健康頸鍊/手環</td>\n",
       "      <td>使用情境</td>\n",
       "      <td>momo_1</td>\n",
       "      <td>907</td>\n",
       "      <td>1538</td>\n",
       "      <td>0.386865</td>\n",
       "      <td>手部</td>\n",
       "      <td>穿戴使用</td>\n",
       "      <td>手環是穿戴在手部的產品，可歸類為穿戴使用的更一般性標籤</td>\n",
       "      <td>low_quality</td>\n",
       "    </tr>\n",
       "    <tr>\n",
       "      <th>1</th>\n",
       "      <td>健康照護</td>\n",
       "      <td>健康與調理用品</td>\n",
       "      <td>循環/能量用品</td>\n",
       "      <td>健康頸鍊/手環</td>\n",
       "      <td>使用情境</td>\n",
       "      <td>momo_1</td>\n",
       "      <td>907</td>\n",
       "      <td>1538</td>\n",
       "      <td>0.386865</td>\n",
       "      <td>臀部</td>\n",
       "      <td>全身使用</td>\n",
       "      <td>健康頸鍊/手環通常不針對臀部，其效果通常宣稱影響全身</td>\n",
       "      <td>low_quality</td>\n",
       "    </tr>\n",
       "    <tr>\n",
       "      <th>2</th>\n",
       "      <td>健康照護</td>\n",
       "      <td>健康與調理用品</td>\n",
       "      <td>循環/能量用品</td>\n",
       "      <td>健康頸鍊/手環</td>\n",
       "      <td>使用情境</td>\n",
       "      <td>momo_1</td>\n",
       "      <td>907</td>\n",
       "      <td>1538</td>\n",
       "      <td>0.386865</td>\n",
       "      <td>足部</td>\n",
       "      <td>全身使用</td>\n",
       "      <td>健康頸鍊/手環通常不針對足部，應歸類為全身使用</td>\n",
       "      <td>low_quality</td>\n",
       "    </tr>\n",
       "  </tbody>\n",
       "</table>\n",
       "</div>"
      ],
      "text/plain": [
       "  domain_from_classification category_from_classification  \\\n",
       "0                       健康照護                      健康與調理用品   \n",
       "1                       健康照護                      健康與調理用品   \n",
       "2                       健康照護                      健康與調理用品   \n",
       "\n",
       "  subcategory_from_classification further_subcategory_from_classification  \\\n",
       "0                         循環/能量用品                                 健康頸鍊/手環   \n",
       "1                         循環/能量用品                                 健康頸鍊/手環   \n",
       "2                         循環/能量用品                                 健康頸鍊/手環   \n",
       "\n",
       "  extend_class      id  usage_input  usage_output  total_cost_twd  \\\n",
       "0         使用情境  momo_1          907          1538        0.386865   \n",
       "1         使用情境  momo_1          907          1538        0.386865   \n",
       "2         使用情境  momo_1          907          1538        0.386865   \n",
       "\n",
       "  original_tag_name recommended_tag_name                    reasoning  \\\n",
       "0                手部                 穿戴使用  手環是穿戴在手部的產品，可歸類為穿戴使用的更一般性標籤   \n",
       "1                臀部                 全身使用   健康頸鍊/手環通常不針對臀部，其效果通常宣稱影響全身   \n",
       "2                足部                 全身使用      健康頸鍊/手環通常不針對足部，應歸類為全身使用   \n",
       "\n",
       "         label  \n",
       "0  low_quality  \n",
       "1  low_quality  \n",
       "2  low_quality  "
      ]
     },
     "execution_count": 201,
     "metadata": {},
     "output_type": "execute_result"
    }
   ],
   "source": [
    "momo_verified_merged_back.head(3)"
   ]
  },
  {
   "cell_type": "code",
   "execution_count": 202,
   "metadata": {},
   "outputs": [],
   "source": [
    "momo_verified_merged_back.to_excel(\"outputs/momo_tags_recommendation_0715.xlsx\")"
   ]
  },
  {
   "cell_type": "markdown",
   "metadata": {},
   "source": [
    "### Amazon"
   ]
  },
  {
   "cell_type": "code",
   "execution_count": 4,
   "metadata": {},
   "outputs": [],
   "source": [
    "amazon_standarized = pd.read_excel(\"outputs/products_extend_amazon_standarized.xlsx\")"
   ]
  },
  {
   "cell_type": "code",
   "execution_count": 134,
   "metadata": {},
   "outputs": [],
   "source": [
    "amazon_standarized_toVerify = amazon_standarized[~(amazon_standarized['standarized_tag'] == \"N/A\")]"
   ]
  },
  {
   "cell_type": "code",
   "execution_count": 135,
   "metadata": {},
   "outputs": [
    {
     "name": "stderr",
     "output_type": "stream",
     "text": [
      "/tmp/ipykernel_5827/1728745840.py:1: SettingWithCopyWarning: \n",
      "A value is trying to be set on a copy of a slice from a DataFrame.\n",
      "Try using .loc[row_indexer,col_indexer] = value instead\n",
      "\n",
      "See the caveats in the documentation: https://pandas.pydata.org/pandas-docs/stable/user_guide/indexing.html#returning-a-view-versus-a-copy\n",
      "  amazon_standarized_toVerify.loc[:, \"low_quality_tag\"] = (amazon_standarized_toVerify\n"
     ]
    }
   ],
   "source": [
    "amazon_standarized_toVerify.loc[:, \"low_quality_tag\"] = (amazon_standarized_toVerify\n",
    "                                                .copy()\n",
    "                                                .apply(\n",
    "                                                    lambda row: row['extend_detail'] if row['standarized_tag'] == \"low_quality\" \n",
    "                                                    else \"N/A\", axis = 1))\n",
    "amazon_extend_grouped = (amazon_standarized_toVerify\n",
    "        .groupby(\n",
    "            [\"domain_from_classification\", \n",
    "            \"category_from_classification\", \n",
    "            \"subcategory_from_classification\", \n",
    "            \"further_subcategory_from_classification\", \n",
    "            \"extend_class\"])\n",
    "        .agg({\"standarized_tag\": lambda x: pd.Series([_ for _ in x if _ != \"low_quality\"]).unique().tolist(),\n",
    "            \"low_quality_tag\": lambda x: pd.Series([_ for _ in x if _ != \"N/A\"]).unique().tolist()})\n",
    "        .reset_index())\n"
   ]
  },
  {
   "cell_type": "code",
   "execution_count": 136,
   "metadata": {},
   "outputs": [
    {
     "data": {
      "text/html": [
       "<div>\n",
       "<style scoped>\n",
       "    .dataframe tbody tr th:only-of-type {\n",
       "        vertical-align: middle;\n",
       "    }\n",
       "\n",
       "    .dataframe tbody tr th {\n",
       "        vertical-align: top;\n",
       "    }\n",
       "\n",
       "    .dataframe thead th {\n",
       "        text-align: right;\n",
       "    }\n",
       "</style>\n",
       "<table border=\"1\" class=\"dataframe\">\n",
       "  <thead>\n",
       "    <tr style=\"text-align: right;\">\n",
       "      <th></th>\n",
       "      <th>domain_from_classification</th>\n",
       "      <th>category_from_classification</th>\n",
       "      <th>subcategory_from_classification</th>\n",
       "      <th>further_subcategory_from_classification</th>\n",
       "      <th>extend_class</th>\n",
       "      <th>standarized_tag</th>\n",
       "      <th>low_quality_tag</th>\n",
       "      <th>id</th>\n",
       "    </tr>\n",
       "  </thead>\n",
       "  <tbody>\n",
       "    <tr>\n",
       "      <th>0</th>\n",
       "      <td>健康照護</td>\n",
       "      <td>健康與調理用品</td>\n",
       "      <td>循環/能量用品</td>\n",
       "      <td>冷熱水袋/敷墊</td>\n",
       "      <td>使用情境</td>\n",
       "      <td>[Muscle Pain Relief, Specialized Equipment Use...</td>\n",
       "      <td>[Safe to use during pregnancy, Cryotherapy, Im...</td>\n",
       "      <td>amazon_1</td>\n",
       "    </tr>\n",
       "    <tr>\n",
       "      <th>1</th>\n",
       "      <td>健康照護</td>\n",
       "      <td>健康與調理用品</td>\n",
       "      <td>循環/能量用品</td>\n",
       "      <td>冷熱水袋/敷墊</td>\n",
       "      <td>功能</td>\n",
       "      <td>[Pain Management, Physical Support, Regulation...</td>\n",
       "      <td>[Increase fertility, Provide prenatal vitamins...</td>\n",
       "      <td>amazon_2</td>\n",
       "    </tr>\n",
       "    <tr>\n",
       "      <th>2</th>\n",
       "      <td>健康照護</td>\n",
       "      <td>健康與調理用品</td>\n",
       "      <td>循環/能量用品</td>\n",
       "      <td>冷熱水袋/敷墊</td>\n",
       "      <td>族群</td>\n",
       "      <td>[Healthcare Professionals, Health Condition Su...</td>\n",
       "      <td>[Individuals with eyelash extensions, Shift wo...</td>\n",
       "      <td>amazon_3</td>\n",
       "    </tr>\n",
       "  </tbody>\n",
       "</table>\n",
       "</div>"
      ],
      "text/plain": [
       "  domain_from_classification category_from_classification  \\\n",
       "0                       健康照護                      健康與調理用品   \n",
       "1                       健康照護                      健康與調理用品   \n",
       "2                       健康照護                      健康與調理用品   \n",
       "\n",
       "  subcategory_from_classification further_subcategory_from_classification  \\\n",
       "0                         循環/能量用品                                 冷熱水袋/敷墊   \n",
       "1                         循環/能量用品                                 冷熱水袋/敷墊   \n",
       "2                         循環/能量用品                                 冷熱水袋/敷墊   \n",
       "\n",
       "  extend_class                                    standarized_tag  \\\n",
       "0         使用情境  [Muscle Pain Relief, Specialized Equipment Use...   \n",
       "1           功能  [Pain Management, Physical Support, Regulation...   \n",
       "2           族群  [Healthcare Professionals, Health Condition Su...   \n",
       "\n",
       "                                     low_quality_tag        id  \n",
       "0  [Safe to use during pregnancy, Cryotherapy, Im...  amazon_1  \n",
       "1  [Increase fertility, Provide prenatal vitamins...  amazon_2  \n",
       "2  [Individuals with eyelash extensions, Shift wo...  amazon_3  "
      ]
     },
     "execution_count": 136,
     "metadata": {},
     "output_type": "execute_result"
    }
   ],
   "source": [
    "amazon_extend_grouped[\"id\"] = [f\"amazon_{i+1}\" for i in range(len(amazon_extend_grouped))]\n",
    "amazon_extend_grouped.head(3)"
   ]
  },
  {
   "cell_type": "code",
   "execution_count": 137,
   "metadata": {},
   "outputs": [],
   "source": [
    "amazon_extend_grouped_no_color = amazon_extend_grouped[amazon_extend_grouped[\"extend_class\"] != \"色彩\"]"
   ]
  },
  {
   "cell_type": "markdown",
   "metadata": {},
   "source": [
    "Send batch requests"
   ]
  },
  {
   "cell_type": "code",
   "execution_count": 152,
   "metadata": {},
   "outputs": [
    {
     "name": "stdout",
     "output_type": "stream",
     "text": [
      "📦 Batch Created: batch_id: msgbatch_011ZU1Xy3Gf6pW1r8HVNVMPs\n"
     ]
    },
    {
     "data": {
      "text/plain": [
       "'msgbatch_011ZU1Xy3Gf6pW1r8HVNVMPs'"
      ]
     },
     "execution_count": 152,
     "metadata": {},
     "output_type": "execute_result"
    }
   ],
   "source": [
    "claude_client = anthropic.Anthropic(\n",
    "    api_key=config[\"CLAUDE_KEY\"]\n",
    ")\n",
    "# * full data request\n",
    "Claude.send_batch_requests(claude_client, amazon_extend_grouped_no_color, sys_prompt)"
   ]
  },
  {
   "cell_type": "code",
   "execution_count": 205,
   "metadata": {},
   "outputs": [
    {
     "name": "stdout",
     "output_type": "stream",
     "text": [
      "decode error at amazon_505\n",
      "decode error at amazon_635\n",
      "decode error at amazon_714\n"
     ]
    },
    {
     "data": {
      "text/html": [
       "<div>\n",
       "<style scoped>\n",
       "    .dataframe tbody tr th:only-of-type {\n",
       "        vertical-align: middle;\n",
       "    }\n",
       "\n",
       "    .dataframe tbody tr th {\n",
       "        vertical-align: top;\n",
       "    }\n",
       "\n",
       "    .dataframe thead th {\n",
       "        text-align: right;\n",
       "    }\n",
       "</style>\n",
       "<table border=\"1\" class=\"dataframe\">\n",
       "  <thead>\n",
       "    <tr style=\"text-align: right;\">\n",
       "      <th></th>\n",
       "      <th>id</th>\n",
       "      <th>list_of_tags_advices</th>\n",
       "      <th>list_of_low_quality_tags_advices</th>\n",
       "      <th>pk</th>\n",
       "      <th>usage_input</th>\n",
       "      <th>usage_output</th>\n",
       "      <th>total_cost_twd</th>\n",
       "    </tr>\n",
       "  </thead>\n",
       "  <tbody>\n",
       "    <tr>\n",
       "      <th>0</th>\n",
       "      <td>amazon_1</td>\n",
       "      <td>[{'original_tag_name': 'Medical Supplies', 're...</td>\n",
       "      <td>[{'original_tag_name': 'Safe to use during pre...</td>\n",
       "      <td>amazon_1</td>\n",
       "      <td>2217</td>\n",
       "      <td>4464</td>\n",
       "      <td>1.104165</td>\n",
       "    </tr>\n",
       "    <tr>\n",
       "      <th>1</th>\n",
       "      <td>amazon_2</td>\n",
       "      <td>[{'original_tag_name': 'Cooking Mode', 'recomm...</td>\n",
       "      <td>[{'original_tag_name': 'Increase fertility', '...</td>\n",
       "      <td>amazon_2</td>\n",
       "      <td>3247</td>\n",
       "      <td>2040</td>\n",
       "      <td>0.605115</td>\n",
       "    </tr>\n",
       "    <tr>\n",
       "      <th>2</th>\n",
       "      <td>amazon_3</td>\n",
       "      <td>[{'original_tag_name': 'Healthcare Professiona...</td>\n",
       "      <td>[{'original_tag_name': 'Individuals with eyela...</td>\n",
       "      <td>amazon_3</td>\n",
       "      <td>1049</td>\n",
       "      <td>1077</td>\n",
       "      <td>0.289530</td>\n",
       "    </tr>\n",
       "    <tr>\n",
       "      <th>3</th>\n",
       "      <td>amazon_4</td>\n",
       "      <td>[{'original_tag_name': 'Purified Water', 'reco...</td>\n",
       "      <td>[{'original_tag_name': 'ILEX', 'recommended_ta...</td>\n",
       "      <td>amazon_4</td>\n",
       "      <td>1487</td>\n",
       "      <td>3107</td>\n",
       "      <td>0.765990</td>\n",
       "    </tr>\n",
       "    <tr>\n",
       "      <th>4</th>\n",
       "      <td>amazon_6</td>\n",
       "      <td>[{'original_tag_name': 'Hypoallergenic', 'reco...</td>\n",
       "      <td>[{'original_tag_name': 'Non-medicinal, safe wi...</td>\n",
       "      <td>amazon_6</td>\n",
       "      <td>4544</td>\n",
       "      <td>2811</td>\n",
       "      <td>0.836955</td>\n",
       "    </tr>\n",
       "    <tr>\n",
       "      <th>...</th>\n",
       "      <td>...</td>\n",
       "      <td>...</td>\n",
       "      <td>...</td>\n",
       "      <td>...</td>\n",
       "      <td>...</td>\n",
       "      <td>...</td>\n",
       "      <td>...</td>\n",
       "    </tr>\n",
       "    <tr>\n",
       "      <th>1883</th>\n",
       "      <td>amazon_2201</td>\n",
       "      <td>[{'original_tag_name': 'Protection', 'recommen...</td>\n",
       "      <td>[{'original_tag_name': 'Keeps child cool with ...</td>\n",
       "      <td>amazon_2201</td>\n",
       "      <td>1825</td>\n",
       "      <td>3411</td>\n",
       "      <td>0.849600</td>\n",
       "    </tr>\n",
       "    <tr>\n",
       "      <th>1884</th>\n",
       "      <td>amazon_2202</td>\n",
       "      <td>[{'original_tag_name': 'Adults', 'recommended_...</td>\n",
       "      <td>[{'original_tag_name': 'Gift buyers', 'recomme...</td>\n",
       "      <td>amazon_2202</td>\n",
       "      <td>834</td>\n",
       "      <td>519</td>\n",
       "      <td>0.154305</td>\n",
       "    </tr>\n",
       "    <tr>\n",
       "      <th>1885</th>\n",
       "      <td>amazon_2203</td>\n",
       "      <td>[{'original_tag_name': 'Leather-Like', 'recomm...</td>\n",
       "      <td>[{'original_tag_name': 'special Velcro', 'reco...</td>\n",
       "      <td>amazon_2203</td>\n",
       "      <td>1035</td>\n",
       "      <td>1106</td>\n",
       "      <td>0.295425</td>\n",
       "    </tr>\n",
       "    <tr>\n",
       "      <th>1886</th>\n",
       "      <td>amazon_2205</td>\n",
       "      <td>[{'original_tag_name': 'Built-in Features', 'r...</td>\n",
       "      <td>[{'original_tag_name': 'pioneering safety and ...</td>\n",
       "      <td>amazon_2205</td>\n",
       "      <td>2271</td>\n",
       "      <td>3336</td>\n",
       "      <td>0.852795</td>\n",
       "    </tr>\n",
       "    <tr>\n",
       "      <th>1887</th>\n",
       "      <td>amazon_2206</td>\n",
       "      <td>[{'original_tag_name': 'Blue', 'recommended_ta...</td>\n",
       "      <td>[{'original_tag_name': 'safety', 'recommended_...</td>\n",
       "      <td>amazon_2206</td>\n",
       "      <td>914</td>\n",
       "      <td>1528</td>\n",
       "      <td>0.384930</td>\n",
       "    </tr>\n",
       "  </tbody>\n",
       "</table>\n",
       "<p>1888 rows × 7 columns</p>\n",
       "</div>"
      ],
      "text/plain": [
       "               id                               list_of_tags_advices  \\\n",
       "0        amazon_1  [{'original_tag_name': 'Medical Supplies', 're...   \n",
       "1        amazon_2  [{'original_tag_name': 'Cooking Mode', 'recomm...   \n",
       "2        amazon_3  [{'original_tag_name': 'Healthcare Professiona...   \n",
       "3        amazon_4  [{'original_tag_name': 'Purified Water', 'reco...   \n",
       "4        amazon_6  [{'original_tag_name': 'Hypoallergenic', 'reco...   \n",
       "...           ...                                                ...   \n",
       "1883  amazon_2201  [{'original_tag_name': 'Protection', 'recommen...   \n",
       "1884  amazon_2202  [{'original_tag_name': 'Adults', 'recommended_...   \n",
       "1885  amazon_2203  [{'original_tag_name': 'Leather-Like', 'recomm...   \n",
       "1886  amazon_2205  [{'original_tag_name': 'Built-in Features', 'r...   \n",
       "1887  amazon_2206  [{'original_tag_name': 'Blue', 'recommended_ta...   \n",
       "\n",
       "                       list_of_low_quality_tags_advices           pk  \\\n",
       "0     [{'original_tag_name': 'Safe to use during pre...     amazon_1   \n",
       "1     [{'original_tag_name': 'Increase fertility', '...     amazon_2   \n",
       "2     [{'original_tag_name': 'Individuals with eyela...     amazon_3   \n",
       "3     [{'original_tag_name': 'ILEX', 'recommended_ta...     amazon_4   \n",
       "4     [{'original_tag_name': 'Non-medicinal, safe wi...     amazon_6   \n",
       "...                                                 ...          ...   \n",
       "1883  [{'original_tag_name': 'Keeps child cool with ...  amazon_2201   \n",
       "1884  [{'original_tag_name': 'Gift buyers', 'recomme...  amazon_2202   \n",
       "1885  [{'original_tag_name': 'special Velcro', 'reco...  amazon_2203   \n",
       "1886  [{'original_tag_name': 'pioneering safety and ...  amazon_2205   \n",
       "1887  [{'original_tag_name': 'safety', 'recommended_...  amazon_2206   \n",
       "\n",
       "      usage_input  usage_output  total_cost_twd  \n",
       "0            2217          4464        1.104165  \n",
       "1            3247          2040        0.605115  \n",
       "2            1049          1077        0.289530  \n",
       "3            1487          3107        0.765990  \n",
       "4            4544          2811        0.836955  \n",
       "...           ...           ...             ...  \n",
       "1883         1825          3411        0.849600  \n",
       "1884          834           519        0.154305  \n",
       "1885         1035          1106        0.295425  \n",
       "1886         2271          3336        0.852795  \n",
       "1887          914          1528        0.384930  \n",
       "\n",
       "[1888 rows x 7 columns]"
      ]
     },
     "execution_count": 205,
     "metadata": {},
     "output_type": "execute_result"
    }
   ],
   "source": [
    "claude_client.messages.batches.retrieve(\n",
    "    'msgbatch_011ZU1Xy3Gf6pW1r8HVNVMPs'\n",
    ").request_counts\n",
    "\n",
    "res = Claude.retrieve_result(claude_client, 'msgbatch_011ZU1Xy3Gf6pW1r8HVNVMPs')\n",
    "amazon_succeeded_round1 = pd.DataFrame(res[0])\n",
    "amazon_decode_error_round1 = res[1]\n",
    "try:\n",
    "    amazon_succeeded_round1[\"total_cost_twd\"] = amazon_succeeded_round1.apply(Claude.calculate_usage, axis = 1)\n",
    "\n",
    "except:\n",
    "    pass\n",
    "\n",
    "amazon_succeeded_round1"
   ]
  },
  {
   "cell_type": "code",
   "execution_count": 206,
   "metadata": {},
   "outputs": [],
   "source": [
    "amazon_extend_grouped_no_color_round2 = (amazon_extend_grouped_no_color\n",
    "                                       .set_index(\"id\")\n",
    "                                       .loc[amazon_decode_error_round1, :]\n",
    "                                       .reset_index())"
   ]
  },
  {
   "cell_type": "code",
   "execution_count": 208,
   "metadata": {},
   "outputs": [
    {
     "name": "stdout",
     "output_type": "stream",
     "text": [
      "📦 Batch Created: batch_id: msgbatch_01QoudarXnAtkGSaaKpf6K8i\n"
     ]
    },
    {
     "data": {
      "text/plain": [
       "'msgbatch_01QoudarXnAtkGSaaKpf6K8i'"
      ]
     },
     "execution_count": 208,
     "metadata": {},
     "output_type": "execute_result"
    }
   ],
   "source": [
    "claude_client = anthropic.Anthropic(\n",
    "    api_key=config[\"CLAUDE_KEY\"]\n",
    ")\n",
    "# * second_trial\n",
    "Claude.send_batch_requests(claude_client, amazon_extend_grouped_no_color_round2, sys_prompt)"
   ]
  },
  {
   "cell_type": "code",
   "execution_count": 209,
   "metadata": {},
   "outputs": [
    {
     "name": "stdout",
     "output_type": "stream",
     "text": [
      "decode error at amazon_635\n"
     ]
    },
    {
     "data": {
      "text/html": [
       "<div>\n",
       "<style scoped>\n",
       "    .dataframe tbody tr th:only-of-type {\n",
       "        vertical-align: middle;\n",
       "    }\n",
       "\n",
       "    .dataframe tbody tr th {\n",
       "        vertical-align: top;\n",
       "    }\n",
       "\n",
       "    .dataframe thead th {\n",
       "        text-align: right;\n",
       "    }\n",
       "</style>\n",
       "<table border=\"1\" class=\"dataframe\">\n",
       "  <thead>\n",
       "    <tr style=\"text-align: right;\">\n",
       "      <th></th>\n",
       "      <th>id</th>\n",
       "      <th>list_of_tags_advices</th>\n",
       "      <th>list_of_low_quality_tags_advices</th>\n",
       "      <th>pk</th>\n",
       "      <th>usage_input</th>\n",
       "      <th>usage_output</th>\n",
       "      <th>total_cost_twd</th>\n",
       "    </tr>\n",
       "  </thead>\n",
       "  <tbody>\n",
       "    <tr>\n",
       "      <th>0</th>\n",
       "      <td>amazon_505</td>\n",
       "      <td>[{'original_tag_name': 'Cooking Mode', 'recomm...</td>\n",
       "      <td>[{'original_tag_name': 'Apply soft eye compres...</td>\n",
       "      <td>amazon_505</td>\n",
       "      <td>3822</td>\n",
       "      <td>8294</td>\n",
       "      <td>2.038140</td>\n",
       "    </tr>\n",
       "    <tr>\n",
       "      <th>1</th>\n",
       "      <td>amazon_714</td>\n",
       "      <td>[{'original_tag_name': 'Protection &amp; Safety', ...</td>\n",
       "      <td>[{'original_tag_name': 'Protect Magicband from...</td>\n",
       "      <td>amazon_714</td>\n",
       "      <td>2819</td>\n",
       "      <td>2260</td>\n",
       "      <td>0.635355</td>\n",
       "    </tr>\n",
       "  </tbody>\n",
       "</table>\n",
       "</div>"
      ],
      "text/plain": [
       "           id                               list_of_tags_advices  \\\n",
       "0  amazon_505  [{'original_tag_name': 'Cooking Mode', 'recomm...   \n",
       "1  amazon_714  [{'original_tag_name': 'Protection & Safety', ...   \n",
       "\n",
       "                    list_of_low_quality_tags_advices          pk  usage_input  \\\n",
       "0  [{'original_tag_name': 'Apply soft eye compres...  amazon_505         3822   \n",
       "1  [{'original_tag_name': 'Protect Magicband from...  amazon_714         2819   \n",
       "\n",
       "   usage_output  total_cost_twd  \n",
       "0          8294        2.038140  \n",
       "1          2260        0.635355  "
      ]
     },
     "execution_count": 209,
     "metadata": {},
     "output_type": "execute_result"
    }
   ],
   "source": [
    "claude_client.messages.batches.retrieve(\n",
    "    'msgbatch_01QoudarXnAtkGSaaKpf6K8i'\n",
    ").request_counts\n",
    "\n",
    "res = Claude.retrieve_result(claude_client, 'msgbatch_01QoudarXnAtkGSaaKpf6K8i')\n",
    "amazon_succeeded_round2 = pd.DataFrame(res[0])\n",
    "amazon_decode_error_round2 = res[1]\n",
    "try:\n",
    "    amazon_succeeded_round2[\"total_cost_twd\"] = amazon_succeeded_round2.apply(Claude.calculate_usage, axis = 1)\n",
    "\n",
    "except:\n",
    "    pass\n",
    "\n",
    "amazon_succeeded_round2"
   ]
  },
  {
   "cell_type": "code",
   "execution_count": 210,
   "metadata": {},
   "outputs": [],
   "source": [
    "amazon_extend_grouped_no_color_round3 = (amazon_extend_grouped_no_color\n",
    "                                       .set_index(\"id\")\n",
    "                                       .loc[amazon_decode_error_round2, :]\n",
    "                                       .reset_index())"
   ]
  },
  {
   "cell_type": "code",
   "execution_count": 212,
   "metadata": {},
   "outputs": [
    {
     "name": "stdout",
     "output_type": "stream",
     "text": [
      "📦 Batch Created: batch_id: msgbatch_01A2yXqUvGkFZjx9uxmE43M7\n"
     ]
    },
    {
     "data": {
      "text/plain": [
       "'msgbatch_01A2yXqUvGkFZjx9uxmE43M7'"
      ]
     },
     "execution_count": 212,
     "metadata": {},
     "output_type": "execute_result"
    }
   ],
   "source": [
    "claude_client = anthropic.Anthropic(\n",
    "    api_key=config[\"CLAUDE_KEY\"]\n",
    ")\n",
    "# * second_trial\n",
    "Claude.send_batch_requests(claude_client, amazon_extend_grouped_no_color_round3, sys_prompt)"
   ]
  },
  {
   "cell_type": "code",
   "execution_count": 213,
   "metadata": {},
   "outputs": [
    {
     "data": {
      "text/html": [
       "<div>\n",
       "<style scoped>\n",
       "    .dataframe tbody tr th:only-of-type {\n",
       "        vertical-align: middle;\n",
       "    }\n",
       "\n",
       "    .dataframe tbody tr th {\n",
       "        vertical-align: top;\n",
       "    }\n",
       "\n",
       "    .dataframe thead th {\n",
       "        text-align: right;\n",
       "    }\n",
       "</style>\n",
       "<table border=\"1\" class=\"dataframe\">\n",
       "  <thead>\n",
       "    <tr style=\"text-align: right;\">\n",
       "      <th></th>\n",
       "      <th>id</th>\n",
       "      <th>list_of_tags_advices</th>\n",
       "      <th>list_of_low_quality_tags_advices</th>\n",
       "      <th>pk</th>\n",
       "      <th>usage_input</th>\n",
       "      <th>usage_output</th>\n",
       "      <th>total_cost_twd</th>\n",
       "    </tr>\n",
       "  </thead>\n",
       "  <tbody>\n",
       "    <tr>\n",
       "      <th>0</th>\n",
       "      <td>amazon_635</td>\n",
       "      <td>[{'original_tag_name': 'Cyberpunk Style', 'rec...</td>\n",
       "      <td>[{'original_tag_name': 'Hot Dog Toaster Red', ...</td>\n",
       "      <td>amazon_635</td>\n",
       "      <td>936</td>\n",
       "      <td>1633</td>\n",
       "      <td>0.409545</td>\n",
       "    </tr>\n",
       "  </tbody>\n",
       "</table>\n",
       "</div>"
      ],
      "text/plain": [
       "           id                               list_of_tags_advices  \\\n",
       "0  amazon_635  [{'original_tag_name': 'Cyberpunk Style', 'rec...   \n",
       "\n",
       "                    list_of_low_quality_tags_advices          pk  usage_input  \\\n",
       "0  [{'original_tag_name': 'Hot Dog Toaster Red', ...  amazon_635          936   \n",
       "\n",
       "   usage_output  total_cost_twd  \n",
       "0          1633        0.409545  "
      ]
     },
     "execution_count": 213,
     "metadata": {},
     "output_type": "execute_result"
    }
   ],
   "source": [
    "claude_client.messages.batches.retrieve(\n",
    "    'msgbatch_01A2yXqUvGkFZjx9uxmE43M7'\n",
    ").request_counts\n",
    "\n",
    "res = Claude.retrieve_result(claude_client, 'msgbatch_01A2yXqUvGkFZjx9uxmE43M7')\n",
    "amazon_succeeded_round3 = pd.DataFrame(res[0])\n",
    "amazon_decode_error_round3 = res[1]\n",
    "try:\n",
    "    amazon_succeeded_round3[\"total_cost_twd\"] = amazon_succeeded_round3.apply(Claude.calculate_usage, axis = 1)\n",
    "\n",
    "except:\n",
    "    pass\n",
    "\n",
    "amazon_succeeded_round3"
   ]
  },
  {
   "cell_type": "code",
   "execution_count": 214,
   "metadata": {},
   "outputs": [],
   "source": [
    "# \n",
    "# * Concatenate All Results\n",
    "amazon_verified_agg = pd.concat([amazon_succeeded_round1, amazon_succeeded_round2, amazon_succeeded_round3])"
   ]
  },
  {
   "cell_type": "code",
   "execution_count": 215,
   "metadata": {},
   "outputs": [],
   "source": [
    "# * list of tags advices (一般 tag 的建議)\n",
    "amazon_ls_tags_advices = amazon_verified_agg.explode('list_of_tags_advices').reset_index(drop = True)\n",
    "amazon_ls_tags_advices = pd.concat([amazon_ls_tags_advices, \n",
    "                                  pd.json_normalize(amazon_ls_tags_advices['list_of_tags_advices'])], axis = 1) \n",
    "amazon_ls_tags_advices = amazon_ls_tags_advices.drop([\"list_of_low_quality_tags_advices\", 'list_of_tags_advices'], axis = 1)\n",
    "amazon_ls_tags_advices['label'] = 'normal'\n",
    "\n",
    "# * list of low quality tags \n",
    "amazon_ls_low_quality_tags_advices = amazon_verified_agg.explode('list_of_low_quality_tags_advices').reset_index(drop = True)\n",
    "amazon_ls_low_quality_tags_advices = pd.concat([amazon_ls_low_quality_tags_advices, \n",
    "                                  pd.json_normalize(amazon_ls_low_quality_tags_advices['list_of_low_quality_tags_advices'])], axis = 1) \n",
    "amazon_ls_low_quality_tags_advices = amazon_ls_low_quality_tags_advices.drop([\"list_of_low_quality_tags_advices\", 'list_of_tags_advices'], axis = 1)\n",
    "amazon_ls_low_quality_tags_advices['label'] = 'low_quality'\n"
   ]
  },
  {
   "cell_type": "code",
   "execution_count": 216,
   "metadata": {},
   "outputs": [],
   "source": [
    "amazon_verified_merged_back = (\n",
    "    pd.merge(amazon_extend_grouped_no_color, \n",
    "             pd.concat([amazon_ls_tags_advices, amazon_ls_low_quality_tags_advices]).sort_values([\"id\", \"label\"]),\n",
    "             on = \"id\",\n",
    "             how = \"left\")\n",
    "    .drop([\"standarized_tag\", \"low_quality_tag\", \"pk\"], axis = 1))"
   ]
  },
  {
   "cell_type": "code",
   "execution_count": 220,
   "metadata": {},
   "outputs": [],
   "source": [
    "amazon_verified_merged_back.to_excel(\"outputs/amazon_tags_recommendation_0715.xlsx\")"
   ]
  },
  {
   "cell_type": "markdown",
   "metadata": {},
   "source": [
    "## Reclassify low quality tags using verified data"
   ]
  },
  {
   "cell_type": "markdown",
   "metadata": {},
   "source": [
    "### Momo"
   ]
  },
  {
   "cell_type": "code",
   "execution_count": null,
   "metadata": {},
   "outputs": [],
   "source": [
    "momo_standarized_copy = momo_standarized.copy()\n",
    "momo_standarized_copy[\"original_tag_name\"] = momo_standarized_copy.apply(lambda row: row[\"extend_detail\"] if row[\"standarized_tag\"] == \"low_quality\"\n",
    "                                                                           else row[\"standarized_tag\"], axis = 1)"
   ]
  },
  {
   "cell_type": "code",
   "execution_count": 236,
   "metadata": {},
   "outputs": [
    {
     "data": {
      "text/html": [
       "<div>\n",
       "<style scoped>\n",
       "    .dataframe tbody tr th:only-of-type {\n",
       "        vertical-align: middle;\n",
       "    }\n",
       "\n",
       "    .dataframe tbody tr th {\n",
       "        vertical-align: top;\n",
       "    }\n",
       "\n",
       "    .dataframe thead th {\n",
       "        text-align: right;\n",
       "    }\n",
       "</style>\n",
       "<table border=\"1\" class=\"dataframe\">\n",
       "  <thead>\n",
       "    <tr style=\"text-align: right;\">\n",
       "      <th></th>\n",
       "      <th>id</th>\n",
       "      <th>source_product_id</th>\n",
       "      <th>domain</th>\n",
       "      <th>category</th>\n",
       "      <th>subcategory</th>\n",
       "      <th>further_subcategory</th>\n",
       "      <th>extend_class</th>\n",
       "      <th>extend_subclass</th>\n",
       "      <th>extend_detail</th>\n",
       "      <th>extend_detail_raw</th>\n",
       "      <th>extend_unit</th>\n",
       "      <th>source</th>\n",
       "      <th>domain_from_classification</th>\n",
       "      <th>category_from_classification</th>\n",
       "      <th>subcategory_from_classification</th>\n",
       "      <th>further_subcategory_from_classification</th>\n",
       "      <th>match_key</th>\n",
       "      <th>standarized_tag</th>\n",
       "      <th>original_tag_name</th>\n",
       "    </tr>\n",
       "  </thead>\n",
       "  <tbody>\n",
       "    <tr>\n",
       "      <th>0</th>\n",
       "      <td>33c78847-7bd5-4a78-8139-9b9f461b4fb3</td>\n",
       "      <td>momo_10029797</td>\n",
       "      <td>NaN</td>\n",
       "      <td>NaN</td>\n",
       "      <td>NaN</td>\n",
       "      <td>NaN</td>\n",
       "      <td>使用情境</td>\n",
       "      <td>NaN</td>\n",
       "      <td>家庭</td>\n",
       "      <td>家庭</td>\n",
       "      <td>NaN</td>\n",
       "      <td>momo</td>\n",
       "      <td>智慧家電</td>\n",
       "      <td>通訊</td>\n",
       "      <td>行動通訊設備</td>\n",
       "      <td>無線電話</td>\n",
       "      <td>momo_10029797_使用情境_None_家庭_None</td>\n",
       "      <td>家庭使用</td>\n",
       "      <td>家庭使用</td>\n",
       "    </tr>\n",
       "    <tr>\n",
       "      <th>1</th>\n",
       "      <td>e9fbc893-9549-4d3e-a038-db38f5b0f283</td>\n",
       "      <td>momo_10029797</td>\n",
       "      <td>NaN</td>\n",
       "      <td>NaN</td>\n",
       "      <td>NaN</td>\n",
       "      <td>NaN</td>\n",
       "      <td>使用情境</td>\n",
       "      <td>NaN</td>\n",
       "      <td>辦公室</td>\n",
       "      <td>辦公室</td>\n",
       "      <td>NaN</td>\n",
       "      <td>momo</td>\n",
       "      <td>智慧家電</td>\n",
       "      <td>通訊</td>\n",
       "      <td>行動通訊設備</td>\n",
       "      <td>無線電話</td>\n",
       "      <td>momo_10029797_使用情境_None_辦公室_None</td>\n",
       "      <td>辦公</td>\n",
       "      <td>辦公</td>\n",
       "    </tr>\n",
       "    <tr>\n",
       "      <th>2</th>\n",
       "      <td>04973514-0a3c-4a96-8685-6c24983a9f65</td>\n",
       "      <td>momo_10278628</td>\n",
       "      <td>NaN</td>\n",
       "      <td>NaN</td>\n",
       "      <td>NaN</td>\n",
       "      <td>NaN</td>\n",
       "      <td>使用情境</td>\n",
       "      <td>NaN</td>\n",
       "      <td>辦公室</td>\n",
       "      <td>辦公室</td>\n",
       "      <td>NaN</td>\n",
       "      <td>momo</td>\n",
       "      <td>智慧家電</td>\n",
       "      <td>通訊</td>\n",
       "      <td>行動通訊設備</td>\n",
       "      <td>無線電話</td>\n",
       "      <td>momo_10278628_使用情境_None_辦公室_None</td>\n",
       "      <td>辦公</td>\n",
       "      <td>辦公</td>\n",
       "    </tr>\n",
       "  </tbody>\n",
       "</table>\n",
       "</div>"
      ],
      "text/plain": [
       "                                     id source_product_id  domain  category  \\\n",
       "0  33c78847-7bd5-4a78-8139-9b9f461b4fb3     momo_10029797     NaN       NaN   \n",
       "1  e9fbc893-9549-4d3e-a038-db38f5b0f283     momo_10029797     NaN       NaN   \n",
       "2  04973514-0a3c-4a96-8685-6c24983a9f65     momo_10278628     NaN       NaN   \n",
       "\n",
       "   subcategory  further_subcategory extend_class extend_subclass  \\\n",
       "0          NaN                  NaN         使用情境             NaN   \n",
       "1          NaN                  NaN         使用情境             NaN   \n",
       "2          NaN                  NaN         使用情境             NaN   \n",
       "\n",
       "  extend_detail extend_detail_raw  extend_unit source  \\\n",
       "0            家庭                家庭          NaN   momo   \n",
       "1           辦公室               辦公室          NaN   momo   \n",
       "2           辦公室               辦公室          NaN   momo   \n",
       "\n",
       "  domain_from_classification category_from_classification  \\\n",
       "0                       智慧家電                           通訊   \n",
       "1                       智慧家電                           通訊   \n",
       "2                       智慧家電                           通訊   \n",
       "\n",
       "  subcategory_from_classification further_subcategory_from_classification  \\\n",
       "0                          行動通訊設備                                    無線電話   \n",
       "1                          行動通訊設備                                    無線電話   \n",
       "2                          行動通訊設備                                    無線電話   \n",
       "\n",
       "                          match_key standarized_tag original_tag_name  \n",
       "0   momo_10029797_使用情境_None_家庭_None            家庭使用              家庭使用  \n",
       "1  momo_10029797_使用情境_None_辦公室_None              辦公                辦公  \n",
       "2  momo_10278628_使用情境_None_辦公室_None              辦公                辦公  "
      ]
     },
     "execution_count": 236,
     "metadata": {},
     "output_type": "execute_result"
    }
   ],
   "source": [
    "momo_standarized_copy.head(3)"
   ]
  },
  {
   "cell_type": "code",
   "execution_count": 246,
   "metadata": {},
   "outputs": [],
   "source": [
    "#\n",
    "# * Scripts of reclassify start here:\n",
    "momo_full_merged = (pd.merge(momo_standarized_copy,\n",
    "                    momo_verified_merged_back.drop([\"id\", \"usage_input\", \"usage_output\", \"total_cost_twd\"], axis = 1),\n",
    "                    on = [\"domain_from_classification\", \"category_from_classification\", \"subcategory_from_classification\", \"further_subcategory_from_classification\", \"extend_class\", \"original_tag_name\"],\n",
    "                    how = \"left\"))\n",
    "momo_full_merged_dropped_NA = momo_full_merged.drop(momo_full_merged[momo_full_merged[\"standarized_tag\"] == \"N/A\"].index)\n",
    "momo_full_merged_dropped_NA"
   ]
  },
  {
   "cell_type": "code",
   "execution_count": 255,
   "metadata": {},
   "outputs": [],
   "source": [
    "# * 若沒有 recommendation，則用原本的\n",
    "momo_full_merged_dropped_NA[\"recommended_tag_name\"] = momo_full_merged_dropped_NA.apply(\n",
    "    lambda row: row[\"recommended_tag_name\"] if str(row[\"recommended_tag_name\"]) != \"nan\" else row[\"original_tag_name\"],\n",
    "    axis = 1\n",
    ")\n",
    "momo_full_merged_dropped_NA[\"label\"] = momo_full_merged_dropped_NA[\"label\"].fillna(\"normal\")"
   ]
  },
  {
   "cell_type": "code",
   "execution_count": 256,
   "metadata": {},
   "outputs": [],
   "source": [
    "momo_full_merged_dropped_NA[\"final_refined_tag\"] = momo_full_merged_dropped_NA.apply(\n",
    "    lambda row: row[\"original_tag_name\"] if row['label'] == \"normal\" \n",
    "    else row[\"recommended_tag_name\"],\n",
    "    axis = 1\n",
    ")"
   ]
  },
  {
   "cell_type": "code",
   "execution_count": 265,
   "metadata": {},
   "outputs": [
    {
     "name": "stdout",
     "output_type": "stream",
     "text": [
      "unique tag counts before reclassify: 57305\n",
      "unique tag counts after reclassify:  32605\n"
     ]
    }
   ],
   "source": [
    "print(f\"unique tag counts before reclassify: {len(momo_standarized_copy[\"original_tag_name\"].unique()) - 1}\")\n",
    "print(f\"unique tag counts after reclassify:  {len(momo_full_merged_dropped_NA[\"final_refined_tag\"].unique())}\")"
   ]
  },
  {
   "cell_type": "code",
   "execution_count": 277,
   "metadata": {},
   "outputs": [],
   "source": [
    "(momo_full_merged_dropped_NA\n",
    " .drop([\"domain\", \"category\", \"subcategory\", \"further_subcategory\", \"extend_detail\", \"standarized_tag\", \"original_tag_name\", \"recommended_tag_name\", \"reasoning\", \"label\"], axis = 1)\n",
    " .rename(columns = {\n",
    "     \"domain_from_classification\": \"domain\",\n",
    "     \"category_from_classification\": \"category\",\n",
    "     \"subcategory_from_classification\": \"subcategory\",\n",
    "     \"further_subcategory_from_classification\": \"further_subcategory\",\n",
    "     \"final_refined_tag\": \"extend_detail\"\n",
    " })\n",
    " .to_excel(\"outputs/products_extend_momo_standardized_verified_reclassified.xlsx\"))"
   ]
  },
  {
   "cell_type": "code",
   "execution_count": 275,
   "metadata": {},
   "outputs": [
    {
     "data": {
      "text/plain": [
       "Index(['id', 'source_product_id', 'domain', 'category', 'subcategory',\n",
       "       'further_subcategory', 'extend_class', 'extend_subclass',\n",
       "       'extend_detail', 'extend_detail_raw', 'extend_unit', 'source',\n",
       "       'domain_from_classification', 'category_from_classification',\n",
       "       'subcategory_from_classification',\n",
       "       'further_subcategory_from_classification', 'match_key',\n",
       "       'standarized_tag', 'original_tag_name', 'recommended_tag_name',\n",
       "       'reasoning', 'label', 'final_refined_tag'],\n",
       "      dtype='object')"
      ]
     },
     "execution_count": 275,
     "metadata": {},
     "output_type": "execute_result"
    }
   ],
   "source": [
    "momo_full_merged_dropped_NA.columns"
   ]
  },
  {
   "cell_type": "markdown",
   "metadata": {},
   "source": [
    "### Amazon"
   ]
  },
  {
   "cell_type": "code",
   "execution_count": 267,
   "metadata": {},
   "outputs": [
    {
     "data": {
      "text/html": [
       "<div>\n",
       "<style scoped>\n",
       "    .dataframe tbody tr th:only-of-type {\n",
       "        vertical-align: middle;\n",
       "    }\n",
       "\n",
       "    .dataframe tbody tr th {\n",
       "        vertical-align: top;\n",
       "    }\n",
       "\n",
       "    .dataframe thead th {\n",
       "        text-align: right;\n",
       "    }\n",
       "</style>\n",
       "<table border=\"1\" class=\"dataframe\">\n",
       "  <thead>\n",
       "    <tr style=\"text-align: right;\">\n",
       "      <th></th>\n",
       "      <th>id</th>\n",
       "      <th>source_product_id</th>\n",
       "      <th>domain</th>\n",
       "      <th>category</th>\n",
       "      <th>subcategory</th>\n",
       "      <th>further_subcategory</th>\n",
       "      <th>extend_class</th>\n",
       "      <th>extend_subclass</th>\n",
       "      <th>extend_detail</th>\n",
       "      <th>extend_detail_raw</th>\n",
       "      <th>extend_unit</th>\n",
       "      <th>source</th>\n",
       "      <th>domain_from_classification</th>\n",
       "      <th>category_from_classification</th>\n",
       "      <th>subcategory_from_classification</th>\n",
       "      <th>further_subcategory_from_classification</th>\n",
       "      <th>project_year</th>\n",
       "      <th>match_key</th>\n",
       "      <th>standarized_tag</th>\n",
       "      <th>original_tag_name</th>\n",
       "    </tr>\n",
       "  </thead>\n",
       "  <tbody>\n",
       "    <tr>\n",
       "      <th>0</th>\n",
       "      <td>262eee05-b0af-4ec2-a711-d2cce5727c18</td>\n",
       "      <td>amazon_0545498562</td>\n",
       "      <td>NaN</td>\n",
       "      <td>NaN</td>\n",
       "      <td>NaN</td>\n",
       "      <td>NaN</td>\n",
       "      <td>訴求</td>\n",
       "      <td>NaN</td>\n",
       "      <td>award-winning craft kit for kids</td>\n",
       "      <td>award-winning craft kit for kids</td>\n",
       "      <td>NaN</td>\n",
       "      <td>amazon</td>\n",
       "      <td>母嬰兒童</td>\n",
       "      <td>兒童玩具</td>\n",
       "      <td>益智玩具</td>\n",
       "      <td>串珠/拼豆</td>\n",
       "      <td>113</td>\n",
       "      <td>amazon_0545498562_訴求_None_award-winning craft ...</td>\n",
       "      <td>low_quality</td>\n",
       "      <td>award-winning craft kit for kids</td>\n",
       "    </tr>\n",
       "    <tr>\n",
       "      <th>1</th>\n",
       "      <td>a2f645d4-4340-46b4-9e69-58710e15ffec</td>\n",
       "      <td>amazon_0545498562</td>\n",
       "      <td>NaN</td>\n",
       "      <td>NaN</td>\n",
       "      <td>NaN</td>\n",
       "      <td>NaN</td>\n",
       "      <td>訴求</td>\n",
       "      <td>NaN</td>\n",
       "      <td>includes 9 vibrant clay colors</td>\n",
       "      <td>includes 9 vibrant clay colors</td>\n",
       "      <td>NaN</td>\n",
       "      <td>amazon</td>\n",
       "      <td>母嬰兒童</td>\n",
       "      <td>兒童玩具</td>\n",
       "      <td>益智玩具</td>\n",
       "      <td>串珠/拼豆</td>\n",
       "      <td>113</td>\n",
       "      <td>amazon_0545498562_訴求_None_includes 9 vibrant c...</td>\n",
       "      <td>low_quality</td>\n",
       "      <td>includes 9 vibrant clay colors</td>\n",
       "    </tr>\n",
       "    <tr>\n",
       "      <th>2</th>\n",
       "      <td>090cccc4-8132-438c-865c-8a16b44678ce</td>\n",
       "      <td>amazon_0545498562</td>\n",
       "      <td>NaN</td>\n",
       "      <td>NaN</td>\n",
       "      <td>NaN</td>\n",
       "      <td>NaN</td>\n",
       "      <td>訴求</td>\n",
       "      <td>NaN</td>\n",
       "      <td>simple step-by-step instructions included</td>\n",
       "      <td>simple step-by-step instructions included</td>\n",
       "      <td>NaN</td>\n",
       "      <td>amazon</td>\n",
       "      <td>母嬰兒童</td>\n",
       "      <td>兒童玩具</td>\n",
       "      <td>益智玩具</td>\n",
       "      <td>串珠/拼豆</td>\n",
       "      <td>113</td>\n",
       "      <td>amazon_0545498562_訴求_None_simple step-by-step ...</td>\n",
       "      <td>Easy To Use</td>\n",
       "      <td>Easy To Use</td>\n",
       "    </tr>\n",
       "  </tbody>\n",
       "</table>\n",
       "</div>"
      ],
      "text/plain": [
       "                                     id  source_product_id  domain  category  \\\n",
       "0  262eee05-b0af-4ec2-a711-d2cce5727c18  amazon_0545498562     NaN       NaN   \n",
       "1  a2f645d4-4340-46b4-9e69-58710e15ffec  amazon_0545498562     NaN       NaN   \n",
       "2  090cccc4-8132-438c-865c-8a16b44678ce  amazon_0545498562     NaN       NaN   \n",
       "\n",
       "   subcategory  further_subcategory extend_class extend_subclass  \\\n",
       "0          NaN                  NaN           訴求             NaN   \n",
       "1          NaN                  NaN           訴求             NaN   \n",
       "2          NaN                  NaN           訴求             NaN   \n",
       "\n",
       "                               extend_detail  \\\n",
       "0           award-winning craft kit for kids   \n",
       "1             includes 9 vibrant clay colors   \n",
       "2  simple step-by-step instructions included   \n",
       "\n",
       "                           extend_detail_raw  extend_unit  source  \\\n",
       "0           award-winning craft kit for kids          NaN  amazon   \n",
       "1             includes 9 vibrant clay colors          NaN  amazon   \n",
       "2  simple step-by-step instructions included          NaN  amazon   \n",
       "\n",
       "  domain_from_classification category_from_classification  \\\n",
       "0                       母嬰兒童                         兒童玩具   \n",
       "1                       母嬰兒童                         兒童玩具   \n",
       "2                       母嬰兒童                         兒童玩具   \n",
       "\n",
       "  subcategory_from_classification further_subcategory_from_classification  \\\n",
       "0                            益智玩具                                   串珠/拼豆   \n",
       "1                            益智玩具                                   串珠/拼豆   \n",
       "2                            益智玩具                                   串珠/拼豆   \n",
       "\n",
       "  project_year                                          match_key  \\\n",
       "0          113  amazon_0545498562_訴求_None_award-winning craft ...   \n",
       "1          113  amazon_0545498562_訴求_None_includes 9 vibrant c...   \n",
       "2          113  amazon_0545498562_訴求_None_simple step-by-step ...   \n",
       "\n",
       "  standarized_tag                 original_tag_name  \n",
       "0     low_quality  award-winning craft kit for kids  \n",
       "1     low_quality    includes 9 vibrant clay colors  \n",
       "2     Easy To Use                       Easy To Use  "
      ]
     },
     "execution_count": 267,
     "metadata": {},
     "output_type": "execute_result"
    }
   ],
   "source": [
    "amazon_standarized_copy = amazon_standarized.copy()\n",
    "amazon_standarized_copy[\"original_tag_name\"] = amazon_standarized_copy.apply(lambda row: row[\"extend_detail\"] if row[\"standarized_tag\"] == \"low_quality\"\n",
    "                                                                           else row[\"standarized_tag\"], axis = 1)\n",
    "amazon_standarized_copy.head(3)"
   ]
  },
  {
   "cell_type": "code",
   "execution_count": 269,
   "metadata": {},
   "outputs": [
    {
     "data": {
      "text/html": [
       "<div>\n",
       "<style scoped>\n",
       "    .dataframe tbody tr th:only-of-type {\n",
       "        vertical-align: middle;\n",
       "    }\n",
       "\n",
       "    .dataframe tbody tr th {\n",
       "        vertical-align: top;\n",
       "    }\n",
       "\n",
       "    .dataframe thead th {\n",
       "        text-align: right;\n",
       "    }\n",
       "</style>\n",
       "<table border=\"1\" class=\"dataframe\">\n",
       "  <thead>\n",
       "    <tr style=\"text-align: right;\">\n",
       "      <th></th>\n",
       "      <th>id</th>\n",
       "      <th>source_product_id</th>\n",
       "      <th>domain</th>\n",
       "      <th>category</th>\n",
       "      <th>subcategory</th>\n",
       "      <th>further_subcategory</th>\n",
       "      <th>extend_class</th>\n",
       "      <th>extend_subclass</th>\n",
       "      <th>extend_detail</th>\n",
       "      <th>extend_detail_raw</th>\n",
       "      <th>...</th>\n",
       "      <th>category_from_classification</th>\n",
       "      <th>subcategory_from_classification</th>\n",
       "      <th>further_subcategory_from_classification</th>\n",
       "      <th>project_year</th>\n",
       "      <th>match_key</th>\n",
       "      <th>standarized_tag</th>\n",
       "      <th>original_tag_name</th>\n",
       "      <th>recommended_tag_name</th>\n",
       "      <th>reasoning</th>\n",
       "      <th>label</th>\n",
       "    </tr>\n",
       "  </thead>\n",
       "  <tbody>\n",
       "    <tr>\n",
       "      <th>0</th>\n",
       "      <td>262eee05-b0af-4ec2-a711-d2cce5727c18</td>\n",
       "      <td>amazon_0545498562</td>\n",
       "      <td>NaN</td>\n",
       "      <td>NaN</td>\n",
       "      <td>NaN</td>\n",
       "      <td>NaN</td>\n",
       "      <td>訴求</td>\n",
       "      <td>NaN</td>\n",
       "      <td>award-winning craft kit for kids</td>\n",
       "      <td>award-winning craft kit for kids</td>\n",
       "      <td>...</td>\n",
       "      <td>兒童玩具</td>\n",
       "      <td>益智玩具</td>\n",
       "      <td>串珠/拼豆</td>\n",
       "      <td>113</td>\n",
       "      <td>amazon_0545498562_訴求_None_award-winning craft ...</td>\n",
       "      <td>low_quality</td>\n",
       "      <td>award-winning craft kit for kids</td>\n",
       "      <td>Award-Winning Design</td>\n",
       "      <td>This low-quality tag is too specific and wordy...</td>\n",
       "      <td>low_quality</td>\n",
       "    </tr>\n",
       "    <tr>\n",
       "      <th>1</th>\n",
       "      <td>a2f645d4-4340-46b4-9e69-58710e15ffec</td>\n",
       "      <td>amazon_0545498562</td>\n",
       "      <td>NaN</td>\n",
       "      <td>NaN</td>\n",
       "      <td>NaN</td>\n",
       "      <td>NaN</td>\n",
       "      <td>訴求</td>\n",
       "      <td>NaN</td>\n",
       "      <td>includes 9 vibrant clay colors</td>\n",
       "      <td>includes 9 vibrant clay colors</td>\n",
       "      <td>...</td>\n",
       "      <td>兒童玩具</td>\n",
       "      <td>益智玩具</td>\n",
       "      <td>串珠/拼豆</td>\n",
       "      <td>113</td>\n",
       "      <td>amazon_0545498562_訴求_None_includes 9 vibrant c...</td>\n",
       "      <td>low_quality</td>\n",
       "      <td>includes 9 vibrant clay colors</td>\n",
       "      <td>Color Variety</td>\n",
       "      <td>This tag is too specific about the exact numbe...</td>\n",
       "      <td>low_quality</td>\n",
       "    </tr>\n",
       "    <tr>\n",
       "      <th>2</th>\n",
       "      <td>090cccc4-8132-438c-865c-8a16b44678ce</td>\n",
       "      <td>amazon_0545498562</td>\n",
       "      <td>NaN</td>\n",
       "      <td>NaN</td>\n",
       "      <td>NaN</td>\n",
       "      <td>NaN</td>\n",
       "      <td>訴求</td>\n",
       "      <td>NaN</td>\n",
       "      <td>simple step-by-step instructions included</td>\n",
       "      <td>simple step-by-step instructions included</td>\n",
       "      <td>...</td>\n",
       "      <td>兒童玩具</td>\n",
       "      <td>益智玩具</td>\n",
       "      <td>串珠/拼豆</td>\n",
       "      <td>113</td>\n",
       "      <td>amazon_0545498562_訴求_None_simple step-by-step ...</td>\n",
       "      <td>Easy To Use</td>\n",
       "      <td>Easy To Use</td>\n",
       "      <td>NaN</td>\n",
       "      <td>NaN</td>\n",
       "      <td>NaN</td>\n",
       "    </tr>\n",
       "  </tbody>\n",
       "</table>\n",
       "<p>3 rows × 23 columns</p>\n",
       "</div>"
      ],
      "text/plain": [
       "                                     id  source_product_id  domain  category  \\\n",
       "0  262eee05-b0af-4ec2-a711-d2cce5727c18  amazon_0545498562     NaN       NaN   \n",
       "1  a2f645d4-4340-46b4-9e69-58710e15ffec  amazon_0545498562     NaN       NaN   \n",
       "2  090cccc4-8132-438c-865c-8a16b44678ce  amazon_0545498562     NaN       NaN   \n",
       "\n",
       "   subcategory  further_subcategory extend_class extend_subclass  \\\n",
       "0          NaN                  NaN           訴求             NaN   \n",
       "1          NaN                  NaN           訴求             NaN   \n",
       "2          NaN                  NaN           訴求             NaN   \n",
       "\n",
       "                               extend_detail  \\\n",
       "0           award-winning craft kit for kids   \n",
       "1             includes 9 vibrant clay colors   \n",
       "2  simple step-by-step instructions included   \n",
       "\n",
       "                           extend_detail_raw  ...  \\\n",
       "0           award-winning craft kit for kids  ...   \n",
       "1             includes 9 vibrant clay colors  ...   \n",
       "2  simple step-by-step instructions included  ...   \n",
       "\n",
       "   category_from_classification subcategory_from_classification  \\\n",
       "0                          兒童玩具                            益智玩具   \n",
       "1                          兒童玩具                            益智玩具   \n",
       "2                          兒童玩具                            益智玩具   \n",
       "\n",
       "  further_subcategory_from_classification project_year  \\\n",
       "0                                   串珠/拼豆          113   \n",
       "1                                   串珠/拼豆          113   \n",
       "2                                   串珠/拼豆          113   \n",
       "\n",
       "                                           match_key standarized_tag  \\\n",
       "0  amazon_0545498562_訴求_None_award-winning craft ...     low_quality   \n",
       "1  amazon_0545498562_訴求_None_includes 9 vibrant c...     low_quality   \n",
       "2  amazon_0545498562_訴求_None_simple step-by-step ...     Easy To Use   \n",
       "\n",
       "                  original_tag_name  recommended_tag_name  \\\n",
       "0  award-winning craft kit for kids  Award-Winning Design   \n",
       "1    includes 9 vibrant clay colors         Color Variety   \n",
       "2                       Easy To Use                   NaN   \n",
       "\n",
       "                                           reasoning        label  \n",
       "0  This low-quality tag is too specific and wordy...  low_quality  \n",
       "1  This tag is too specific about the exact numbe...  low_quality  \n",
       "2                                                NaN          NaN  \n",
       "\n",
       "[3 rows x 23 columns]"
      ]
     },
     "execution_count": 269,
     "metadata": {},
     "output_type": "execute_result"
    }
   ],
   "source": [
    "#\n",
    "# * Scripts of reclassify start here:\n",
    "amazon_full_merged = (pd.merge(amazon_standarized_copy,\n",
    "                    amazon_verified_merged_back.drop([\"id\", \"usage_input\", \"usage_output\", \"total_cost_twd\"], axis = 1),\n",
    "                    on = [\"domain_from_classification\", \"category_from_classification\", \"subcategory_from_classification\", \"further_subcategory_from_classification\", \"extend_class\", \"original_tag_name\"],\n",
    "                    how = \"left\"))\n",
    "amazon_full_merged_dropped_NA = amazon_full_merged.drop(amazon_full_merged[amazon_full_merged[\"standarized_tag\"] == \"N/A\"].index)\n",
    "amazon_full_merged_dropped_NA.head(3)"
   ]
  },
  {
   "cell_type": "code",
   "execution_count": 270,
   "metadata": {},
   "outputs": [],
   "source": [
    "# * 若沒有 recommendation，則用原本的\n",
    "amazon_full_merged_dropped_NA[\"recommended_tag_name\"] = amazon_full_merged_dropped_NA.apply(\n",
    "    lambda row: row[\"recommended_tag_name\"] if str(row[\"recommended_tag_name\"]) != \"nan\" else row[\"original_tag_name\"],\n",
    "    axis = 1\n",
    ")\n",
    "amazon_full_merged_dropped_NA[\"label\"] = amazon_full_merged_dropped_NA[\"label\"].fillna(\"normal\")"
   ]
  },
  {
   "cell_type": "code",
   "execution_count": 271,
   "metadata": {},
   "outputs": [],
   "source": [
    "amazon_full_merged_dropped_NA[\"final_refined_tag\"] = amazon_full_merged_dropped_NA.apply(\n",
    "    lambda row: row[\"original_tag_name\"] if row['label'] == \"normal\" \n",
    "    else row[\"recommended_tag_name\"],\n",
    "    axis = 1\n",
    ")"
   ]
  },
  {
   "cell_type": "code",
   "execution_count": 272,
   "metadata": {},
   "outputs": [
    {
     "name": "stdout",
     "output_type": "stream",
     "text": [
      "unique tag counts before reclassify: 98704\n",
      "unique tag counts after reclassify:  69716\n"
     ]
    }
   ],
   "source": [
    "print(f\"unique tag counts before reclassify: {len(amazon_standarized_copy[\"original_tag_name\"].unique()) - 1}\")\n",
    "print(f\"unique tag counts after reclassify:  {len(amazon_full_merged_dropped_NA[\"final_refined_tag\"].unique())}\")"
   ]
  },
  {
   "cell_type": "code",
   "execution_count": 278,
   "metadata": {},
   "outputs": [],
   "source": [
    "(amazon_full_merged_dropped_NA\n",
    " .drop([\"domain\", \"category\", \"subcategory\", \"further_subcategory\", \"extend_detail\", \"standarized_tag\", \"original_tag_name\", \"recommended_tag_name\", \"reasoning\", \"label\"], axis = 1)\n",
    " .rename(columns = {\n",
    "     \"domain_from_classification\": \"domain\",\n",
    "     \"category_from_classification\": \"category\",\n",
    "     \"subcategory_from_classification\": \"subcategory\",\n",
    "     \"further_subcategory_from_classification\": \"further_subcategory\",\n",
    "     \"final_refined_tag\": \"extend_detail\"\n",
    " })\n",
    " .to_excel(\"outputs/products_extend_amazon_standardized_verified_reclassified.xlsx\"))"
   ]
  },
  {
   "cell_type": "markdown",
   "metadata": {},
   "source": [
    "### 臨時任務：0715\n",
    "1. Product Extend 與數字型垂直合併\n",
    "2. Product Extend 做兩個版本：前端拿掉與不拿掉（不拿掉的就是我這邊產出的，拿掉的 = 與 product 拿掉的 df Left Merge）"
   ]
  },
  {
   "cell_type": "markdown",
   "metadata": {},
   "source": [
    "Amazon"
   ]
  },
  {
   "cell_type": "code",
   "execution_count": 288,
   "metadata": {},
   "outputs": [],
   "source": [
    "products_extend_amazon_numerical = pd.read_excel(\"sources/amazon_products_extend_數字標準化_0715.xlsx\")\n",
    "products_to_filter = pd.read_excel(\"sources/products_amazon_0715_delete.xlsx\")[[\"source_product_id\"]]\n",
    "products_extend_full = pd.concat([amazon_full_merged_dropped_NA.drop([\"domain\", \"category\", \"subcategory\", \"further_subcategory\", \"extend_detail\", \"standarized_tag\", \"original_tag_name\", \"recommended_tag_name\", \"reasoning\", \"label\"], axis = 1)\n",
    "                                    .rename(columns = {\n",
    "                                        \"domain_from_classification\": \"domain\",\n",
    "                                        \"category_from_classification\": \"category\",\n",
    "                                        \"subcategory_from_classification\": \"subcategory\",\n",
    "                                        \"further_subcategory_from_classification\": \"further_subcategory\",\n",
    "                                        \"final_refined_tag\": \"extend_detail\"\n",
    "                                    }),\n",
    "                                  products_extend_amazon_numerical])\n",
    "products_extend_filter = pd.merge(products_to_filter, products_extend_full, how = 'left', on = 'source_product_id')"
   ]
  },
  {
   "cell_type": "code",
   "execution_count": 291,
   "metadata": {},
   "outputs": [],
   "source": [
    "products_extend_full.to_csv(\"outputs/products_extend_amazon_0715.csv\")\n",
    "products_extend_filter.to_csv(\"outputs/products_extend_amazon_0715_delete.csv\")"
   ]
  },
  {
   "cell_type": "markdown",
   "metadata": {},
   "source": [
    "Momo"
   ]
  },
  {
   "cell_type": "code",
   "execution_count": 292,
   "metadata": {},
   "outputs": [],
   "source": [
    "products_extend_momo_numerical = pd.read_excel(\"sources/momo_products_extend_數字標準化_0715.xlsx\")\n",
    "products_to_filter_momo = pd.read_excel(\"sources/products_momo_0715_delete.xlsx\")[[\"source_product_id\"]]\n",
    "products_extend_full_momo = pd.concat([momo_full_merged_dropped_NA.drop([\"domain\", \"category\", \"subcategory\", \"further_subcategory\", \"extend_detail\", \"standarized_tag\", \"original_tag_name\", \"recommended_tag_name\", \"reasoning\", \"label\"], axis = 1)\n",
    "                                    .rename(columns = {\n",
    "                                        \"domain_from_classification\": \"domain\",\n",
    "                                        \"category_from_classification\": \"category\",\n",
    "                                        \"subcategory_from_classification\": \"subcategory\",\n",
    "                                        \"further_subcategory_from_classification\": \"further_subcategory\",\n",
    "                                        \"final_refined_tag\": \"extend_detail\"\n",
    "                                    }),\n",
    "                                  products_extend_momo_numerical])\n",
    "products_extend_filter_momo = pd.merge(products_to_filter_momo, products_extend_full_momo, how = 'left', on = 'source_product_id')"
   ]
  },
  {
   "cell_type": "code",
   "execution_count": 295,
   "metadata": {},
   "outputs": [],
   "source": [
    "products_extend_full_momo.to_csv(\"outputs/products_extend_momo_0715.csv\")\n",
    "products_extend_filter_momo.to_csv(\"outputs/products_extend_momo_0715_delete.csv\")"
   ]
  },
  {
   "cell_type": "markdown",
   "metadata": {},
   "source": [
    "### 0721\n",
    "Product Extend with 3 columns (raw, reclassified tag, recommended tag)"
   ]
  },
  {
   "cell_type": "markdown",
   "metadata": {},
   "source": [
    "Amazon"
   ]
  },
  {
   "cell_type": "code",
   "execution_count": 25,
   "metadata": {},
   "outputs": [],
   "source": [
    "# * amazon\n",
    "standardized_amazon = pd.read_excel(\"outputs/products_extend_amazon_standarized.xlsx\")\n",
    "recommended_amazon  = pd.read_excel(\"outputs/products_extend_amazon_standardized_verified_reclassified.xlsx\")"
   ]
  },
  {
   "cell_type": "code",
   "execution_count": 26,
   "metadata": {},
   "outputs": [],
   "source": [
    "amazon_merged = pd.merge(\n",
    "        standardized_amazon.drop(\n",
    "            [\n",
    "                \"extend_detail\",\n",
    "                \"domain\", \n",
    "                \"category\",\n",
    "                \"subcategory\",\n",
    "                \"further_subcategory\",\n",
    "            ],\n",
    "            axis = 1\n",
    "        ),\n",
    "        recommended_amazon.drop(\n",
    "                    [\n",
    "            \"id\",\n",
    "            \"source_product_id\", \n",
    "            \"extend_class\",\n",
    "            \"extend_subclass\",\n",
    "            \"extend_detail_raw\",\n",
    "            \"extend_unit\",\n",
    "            \"project_year\",\n",
    "            \"source\",\n",
    "            \"Unnamed: 0\"\n",
    "            ], axis = 1\n",
    "        ),\n",
    "        how = 'inner',\n",
    "        on = 'match_key'\n",
    "    )"
   ]
  },
  {
   "cell_type": "code",
   "execution_count": 27,
   "metadata": {},
   "outputs": [],
   "source": [
    "amazon_merged = (\n",
    "    amazon_merged[[\n",
    "    \"id\",\n",
    "    \"match_key\",\n",
    "    \"source_product_id\",\n",
    "    'category', \n",
    "    'subcategory',\n",
    "    'further_subcategory',\n",
    "    'extend_class',\n",
    "    'extend_subclass',\n",
    "    'extend_detail_raw',\n",
    "    'standarized_tag',\n",
    "    'extend_detail',\n",
    "    'project_year',\n",
    "    'source',\n",
    "    'extend_unit']]\n",
    "    .rename(columns = {\n",
    "        'extend_detail_raw': \"extend_detail_origin\",\n",
    "        \"standarized_tag\": \"standardized_detail\",\n",
    "        \"extend_detail\": \"recommended_detail\"}\n",
    "    ))"
   ]
  },
  {
   "cell_type": "code",
   "execution_count": 28,
   "metadata": {},
   "outputs": [],
   "source": [
    "amazon_merged.to_excel(\"outputs/product_extend_amazon_with_history_0721.xlsx\")"
   ]
  },
  {
   "cell_type": "markdown",
   "metadata": {},
   "source": [
    "Momo"
   ]
  },
  {
   "cell_type": "code",
   "execution_count": 30,
   "metadata": {},
   "outputs": [],
   "source": [
    "# * momo\n",
    "standardized_momo = pd.read_excel(\"outputs/products_extend_momo_standarized.xlsx\")\n",
    "recommended_momo  = pd.read_excel(\"outputs/products_extend_momo_standardized_verified_reclassified.xlsx\")\n",
    "\n",
    "momo_merged = pd.merge(\n",
    "        standardized_momo.drop(\n",
    "            [\n",
    "                \"extend_detail\",\n",
    "                \"domain\", \n",
    "                \"category\",\n",
    "                \"subcategory\",\n",
    "                \"further_subcategory\",\n",
    "            ],\n",
    "            axis = 1\n",
    "        ),\n",
    "        recommended_momo.drop(\n",
    "                    [\n",
    "            \"id\",\n",
    "            \"source_product_id\", \n",
    "            \"extend_class\",\n",
    "            \"extend_subclass\",\n",
    "            \"extend_detail_raw\",\n",
    "            \"extend_unit\",\n",
    "            \"source\",\n",
    "            \"Unnamed: 0\"\n",
    "            ], axis = 1\n",
    "        ),\n",
    "        how = 'inner',\n",
    "        on = 'match_key'\n",
    "    )\n",
    "\n",
    "momo_merged = (\n",
    "    momo_merged[[\n",
    "    \"id\",\n",
    "    \"match_key\",\n",
    "    \"source_product_id\",\n",
    "    'category', \n",
    "    'subcategory',\n",
    "    'further_subcategory',\n",
    "    'extend_class',\n",
    "    'extend_subclass',\n",
    "    'extend_detail_raw',\n",
    "    'standarized_tag',\n",
    "    'extend_detail',\n",
    "    'source',\n",
    "    'extend_unit']]\n",
    "    .rename(columns = {\n",
    "        'extend_detail_raw': \"extend_detail_origin\",\n",
    "        \"standarized_tag\": \"standardized_detail\",\n",
    "        \"extend_detail\": \"recommended_detail\"}\n",
    "    ))\n",
    "\n",
    "momo_merged.to_excel(\"outputs/product_extend_momo_with_history_0721.xlsx\")"
   ]
  }
 ],
 "metadata": {
  "kernelspec": {
   "display_name": "base",
   "language": "python",
   "name": "python3"
  },
  "language_info": {
   "codemirror_mode": {
    "name": "ipython",
    "version": 3
   },
   "file_extension": ".py",
   "mimetype": "text/x-python",
   "name": "python",
   "nbconvert_exporter": "python",
   "pygments_lexer": "ipython3",
   "version": "3.12.2"
  }
 },
 "nbformat": 4,
 "nbformat_minor": 2
}
